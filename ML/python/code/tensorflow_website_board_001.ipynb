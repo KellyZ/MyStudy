{
 "cells": [
  {
   "cell_type": "markdown",
   "metadata": {},
   "source": [
    "## Serializing the data"
   ]
  },
  {
   "cell_type": "code",
   "execution_count": 1,
   "metadata": {
    "collapsed": true
   },
   "outputs": [],
   "source": [
    "import numpy as np\n",
    "import tensorflow as tf\n",
    "from matplotlib import pyplot as plt"
   ]
  },
  {
   "cell_type": "markdown",
   "metadata": {},
   "source": [
    "## 定义数据"
   ]
  },
  {
   "cell_type": "code",
   "execution_count": 2,
   "metadata": {
    "collapsed": true
   },
   "outputs": [],
   "source": [
    "x = np.linspace(-5,5,50)\n",
    "real_y = x*[3.4]+1\n",
    "y = real_y + np.random.normal(0,2,(50,))"
   ]
  },
  {
   "cell_type": "code",
   "execution_count": 3,
   "metadata": {},
   "outputs": [
    {
     "data": {
      "image/png": "[encoded data removed]",
      "text/plain": [
       "<matplotlib.figure.Figure at 0xc0aefd0>"
      ]
     },
     "metadata": {},
     "output_type": "display_data"
    }
   ],
   "source": [
    "plt.plot(x, real_y)\n",
    "plt.scatter(x,y)\n",
    "plt.show()"
   ]
  },
  {
   "cell_type": "markdown",
   "metadata": {},
   "source": [
    "## 定义模型"
   ]
  },
  {
   "cell_type": "code",
   "execution_count": 4,
   "metadata": {
    "collapsed": true
   },
   "outputs": [],
   "source": [
    "# 输入层\n",
    "with tf.variable_scope('input'):\n",
    "    xs = tf.placeholder(tf.float32, name=\"x_input\")\n",
    "\n",
    "# layer1\n",
    "with tf.name_scope('layer'):\n",
    "    W = tf.Variable(.0, name=\"weights\")\n",
    "    tf.summary.histogram('Weight',W)\n",
    "    tf.summary.scalar('Weight',W)\n",
    "    b = tf.Variable(.0, name=\"biaes\")\n",
    "    tf.summary.histogram('biases',b)\n",
    "    tf.summary.scalar('biases',b)\n",
    "    with tf.name_scope(\"Wx_plus_b\"):\n",
    "        predictions = xs*W + b\n",
    "        tf.summary.histogram(\"predictions\",predictions)\n",
    "\n",
    "with tf.name_scope('loss'):\n",
    "    ys = tf.placeholder(tf.float32, name=\"y_input\")\n",
    "    delta = tf.square(predictions-ys)\n",
    "    loss = tf.reduce_mean(delta)\n",
    "    tf.summary.scalar('loss',loss)\n",
    "    \n",
    "# output layer\n",
    "with tf.name_scope('train'):\n",
    "    optimizer = tf.train.GradientDescentOptimizer(0.01)\n",
    "    train = optimizer.minimize(loss)\n"
   ]
  },
  {
   "cell_type": "markdown",
   "metadata": {},
   "source": [
    "## 进行训练"
   ]
  },
  {
   "cell_type": "code",
   "execution_count": 5,
   "metadata": {},
   "outputs": [],
   "source": [
    "merged = tf.summary.merge_all()\n",
    "\n",
    "init = tf.global_variables_initializer()\n",
    "\n",
    "with tf.Session() as sess:\n",
    "    writer = tf.summary.FileWriter('./tensorboard/board001', sess.graph, )\n",
    "    sess.run(init)\n",
    "    for i in range(100):\n",
    "        sess.run(train,{xs:x,ys:y})\n",
    "        if i%5 == 0:\n",
    "            summary = sess.run(merged,feed_dict={xs:x,ys:y})\n",
    "            writer.add_summary(summary,i)\n",
    "    writer.close()\n",
    "    Wo = sess.run(W)\n",
    "    bo = sess.run(b)"
   ]
  },
  {
   "cell_type": "markdown",
   "metadata": {
    "collapsed": true
   },
   "source": [
    "## 输出训练结果"
   ]
  },
  {
   "cell_type": "code",
   "execution_count": 6,
   "metadata": {},
   "outputs": [
    {
     "name": "stdout",
     "output_type": "stream",
     "text": [
      "W: 3.38449 ,b: 1.25488\n"
     ]
    },
    {
     "data": {
      "image/png": "[encoded data removed]",
      "text/plain": [
       "<matplotlib.figure.Figure at 0xc678ef0>"
      ]
     },
     "metadata": {},
     "output_type": "display_data"
    }
   ],
   "source": [
    "print(\"W:\",Wo,\",b:\",bo)\n",
    "py = x*Wo+bo\n",
    "plt.plot(x, py,'r-')\n",
    "plt.plot(x,real_y)\n",
    "plt.scatter(x,y)\n",
    "plt.show()"
   ]
  },
  {
   "cell_type": "code",
   "execution_count": null,
   "metadata": {
    "collapsed": true
   },
   "outputs": [],
   "source": []
  }
 ],
 "metadata": {
  "kernelspec": {
   "display_name": "Python 3",
   "language": "python",
   "name": "python3"
  },
  "language_info": {
   "codemirror_mode": {
    "name": "ipython",
    "version": 3
   },
   "file_extension": ".py",
   "mimetype": "text/x-python",
   "name": "python",
   "nbconvert_exporter": "python",
   "pygments_lexer": "ipython3",
   "version": "3.6.2"
  }
 },
 "nbformat": 4,
 "nbformat_minor": 2
}
