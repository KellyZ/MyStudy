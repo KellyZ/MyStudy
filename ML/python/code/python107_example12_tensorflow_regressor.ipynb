{
 "cells": [
  {
   "cell_type": "code",
   "execution_count": 6,
   "metadata": {
    "collapsed": true
   },
   "outputs": [],
   "source": [
    "import tensorflow as tf\n",
    "import numpy as np\n",
    "import matplotlib.pyplot as plt"
   ]
  },
  {
   "cell_type": "code",
   "execution_count": 4,
   "metadata": {},
   "outputs": [
    {
     "name": "stdout",
     "output_type": "stream",
     "text": [
      "0 k= 0.0762613 ,b= 0.13094\n",
      "20 k= 0.296557 ,b= 0.1993\n",
      "40 k= 0.383216 ,b= 0.157002\n",
      "60 k= 0.432962 ,b= 0.132721\n",
      "80 k= 0.461518 ,b= 0.118783\n",
      "100 k= 0.47791 ,b= 0.110782\n",
      "120 k= 0.487319 ,b= 0.106189\n",
      "140 k= 0.492721 ,b= 0.103553\n",
      "160 k= 0.495821 ,b= 0.10204\n",
      "180 k= 0.497601 ,b= 0.101171\n",
      "200 k= 0.498623 ,b= 0.100672\n",
      "220 k= 0.49921 ,b= 0.100386\n",
      "240 k= 0.499546 ,b= 0.100221\n",
      "260 k= 0.49974 ,b= 0.100127\n",
      "280 k= 0.49985 ,b= 0.100073\n",
      "300 k= 0.499914 ,b= 0.100042\n"
     ]
    }
   ],
   "source": [
    "x_data = np.random.rand(100)\n",
    "y_data = 0.5*x_data + 0.1\n",
    "\n",
    "# 构建一个线性模型\n",
    "b = tf.Variable(0.)\n",
    "k = tf.Variable(0.)\n",
    "y = k*x_data + b\n",
    "\n",
    "# 二次代价函数\n",
    "loss = tf.reduce_mean(tf.square(y_data-y))\n",
    "\n",
    "# 梯度下降法优化器\n",
    "optimizer = tf.train.GradientDescentOptimizer(0.2)\n",
    "\n",
    "# 最小化代价函数\n",
    "train = optimizer.minimize(loss)\n",
    "\n",
    "# 初始化变量\n",
    "init = tf.global_variables_initializer()\n",
    "\n",
    "with tf.Session() as sess:\n",
    "    sess.run(init)\n",
    "    for i in range(301):\n",
    "        sess.run(train)\n",
    "        if i%20 == 0:\n",
    "            print(i, \"k=\",sess.run(k),\",b=\",sess.run(b))"
   ]
  },
  {
   "cell_type": "code",
   "execution_count": 5,
   "metadata": {},
   "outputs": [
    {
     "data": {
      "text/plain": [
       "(200, 1)"
      ]
     },
     "execution_count": 5,
     "metadata": {},
     "output_type": "execute_result"
    }
   ],
   "source": [
    "x_data = np.linspace(-0.5,0.5,200)[:,np.newaxis]\n",
    "x_data.shape"
   ]
  },
  {
   "cell_type": "code",
   "execution_count": 8,
   "metadata": {},
   "outputs": [
    {
     "data": {
      "image/png": "[encoded data removed]",
      "text/plain": [
       "<matplotlib.figure.Figure at 0x108fe86d8>"
      ]
     },
     "metadata": {},
     "output_type": "display_data"
    }
   ],
   "source": [
    "noise = np.random.normal(0,0.02,x_data.shape)\n",
    "y_data = np.square(x_data) + noise\n",
    "\n",
    "# 定义placeholder\n",
    "x = tf.placeholder(tf.float32,[None,1])\n",
    "y = tf.placeholder(tf.float32,[None,1])\n",
    "\n",
    "# 定义神经网络中间层\n",
    "Weight_L1 = tf.Variable(tf.random_normal([1,10]))\n",
    "biases_L1 = tf.Variable(tf.zeros([1,10]))\n",
    "\n",
    "Wx_plus_b_L1 = tf.matmul(x,Weight_L1)+biases_L1\n",
    "\n",
    "# 定义激活函数，双曲正切函数\n",
    "L1 = tf.nn.tanh(Wx_plus_b_L1)\n",
    "\n",
    "# 定义输出层\n",
    "Weight_L2 = tf.Variable(tf.random_normal([10,1]))\n",
    "biases_L2 = tf.Variable(tf.zeros(1,1))\n",
    "Wx_plus_b_L2 = tf.matmul(L1,Weight_L2)+biases_L2\n",
    "\n",
    "# 定义激活函数\n",
    "prediction = tf.nn.tanh(Wx_plus_b_L2)\n",
    "\n",
    "# 二次代价函数\n",
    "loss = tf.reduce_mean(tf.square(y_data-prediction))\n",
    "# 优化器(梯度下降法)训练\n",
    "train_step = tf.train.GradientDescentOptimizer(0.1).minimize(loss)\n",
    "\n",
    "init = tf.global_variables_initializer()\n",
    "with tf.Session() as sess:\n",
    "    sess.run(init)\n",
    "    for step in range(2000):\n",
    "        sess.run(train_step,feed_dict={x:x_data,y:y_data})\n",
    "    \n",
    "    #获得预测值\n",
    "    prediction_value = sess.run(prediction, feed_dict={x:x_data})\n",
    "    # 画图\n",
    "    plt.figure()\n",
    "    plt.scatter(x_data,y_data)\n",
    "    plt.plot(x_data,prediction_value,'r-',lw=5)\n",
    "    plt.show()"
   ]
  },
  {
   "cell_type": "code",
   "execution_count": null,
   "metadata": {
    "collapsed": true
   },
   "outputs": [],
   "source": []
  }
 ],
 "metadata": {
  "kernelspec": {
   "display_name": "Python 3",
   "language": "python",
   "name": "python3"
  },
  "language_info": {
   "codemirror_mode": {
    "name": "ipython",
    "version": 3
   },
   "file_extension": ".py",
   "mimetype": "text/x-python",
   "name": "python",
   "nbconvert_exporter": "python",
   "pygments_lexer": "ipython3",
   "version": "3.6.2"
  }
 },
 "nbformat": 4,
 "nbformat_minor": 2
}
