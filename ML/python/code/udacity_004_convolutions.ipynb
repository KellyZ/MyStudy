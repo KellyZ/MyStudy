{
 "cells": [
  {
   "cell_type": "code",
   "execution_count": 1,
   "metadata": {
    "collapsed": true
   },
   "outputs": [],
   "source": [
    "from __future__ import print_function\n",
    "import numpy as np\n",
    "import tensorflow as tf\n",
    "from six.moves import cPickle as pickle"
   ]
  },
  {
   "cell_type": "code",
   "execution_count": 2,
   "metadata": {},
   "outputs": [
    {
     "name": "stdout",
     "output_type": "stream",
     "text": [
      "Training info: (20000, 28, 28) (20000,)\n",
      "Valid info: (10000, 28, 28) (10000,)\n",
      "Test info: (10000, 28, 28) (10000,)\n"
     ]
    }
   ],
   "source": [
    "\"\"\" First, reload the data \"\"\"\n",
    "pickle_file = 'notMNIST.pickle'\n",
    "\n",
    "with open(pickle_file, 'rb') as f:\n",
    "    save = pickle.load(f)\n",
    "    train_dataset = save['train_dataset']\n",
    "    train_labels = save['train_labels']    \n",
    "    valid_dataset = save['valid_dataset']\n",
    "    valid_labels = save['valid_labels']    \n",
    "    test_dataset = save['test_dataset']\n",
    "    test_labels = save['test_labels']\n",
    "    del save # hint to help gc free up memory\n",
    "    print('Training info:', train_dataset.shape, train_labels.shape)\n",
    "    print('Valid info:', valid_dataset.shape, valid_labels.shape)\n",
    "    print('Test info:', test_dataset.shape, test_labels.shape)"
   ]
  },
  {
   "cell_type": "code",
   "execution_count": 3,
   "metadata": {},
   "outputs": [
    {
     "name": "stdout",
     "output_type": "stream",
     "text": [
      "Training info: (20000, 28, 28, 1) (20000, 10)\n",
      "Valid info: (10000, 28, 28, 1) (10000, 10)\n",
      "Test info: (10000, 28, 28, 1) (10000, 10)\n"
     ]
    }
   ],
   "source": [
    "image_size = 28\n",
    "num_labels = 10\n",
    "num_channels = 1 # grayscale\n",
    "\n",
    "def reformat(dataset, labels):\n",
    "    dataset = dataset.reshape((-1, image_size,image_size, num_channels)).astype(np.float32)\n",
    "    # map 0 to [1.0, 0.0, 0.0 ...], 1 to [0.0, 1.0, 0.0, ...]\n",
    "    labels = (np.arange(num_labels) == labels[:,None]).astype(np.float32)  # one-hot\n",
    "    return dataset,labels\n",
    "\n",
    "train_dataset,train_labels = reformat(train_dataset,train_labels)\n",
    "valid_dataset,valid_labels = reformat(valid_dataset,valid_labels)\n",
    "test_dataset,test_labels = reformat(test_dataset,test_labels)\n",
    "\n",
    "print('Training info:', train_dataset.shape, train_labels.shape)\n",
    "print('Valid info:', valid_dataset.shape, valid_labels.shape)\n",
    "print('Test info:', test_dataset.shape, test_labels.shape)"
   ]
  },
  {
   "cell_type": "code",
   "execution_count": 4,
   "metadata": {
    "collapsed": true
   },
   "outputs": [],
   "source": [
    "def accuracy(predictions, labels):\n",
    "    accuracy = (100.0 * np.sum(np.argmax(predictions,1) == np.argmax(labels,1)) / predictions.shape[0])\n",
    "    return accuracy"
   ]
  },
  {
   "cell_type": "code",
   "execution_count": 66,
   "metadata": {},
   "outputs": [],
   "source": [
    "batch_size = 16\n",
    "patch_size = 5\n",
    "depth = 16\n",
    "num_hidden = 64\n",
    "\n",
    "graph = tf.Graph()\n",
    "\n",
    "with graph.as_default():\n",
    "    # Input data\n",
    "    tf_train_dataset = tf.placeholder(tf.float32, shape=(batch_size, image_size, image_size, num_channels))\n",
    "    tf_train_labels = tf.placeholder(tf.float32,shape=(batch_size,num_labels))\n",
    "    tf_valid_dataset = tf.constant(valid_dataset)\n",
    "    tf_test_dataset = tf.constant(test_dataset)\n",
    "    \n",
    "    # Variables\n",
    "    layer1_weights = tf.Variable(tf.truncated_normal([patch_size, patch_size, num_channels, depth], stddev=0.1))\n",
    "    layer1_biases = tf.Variable(tf.zeros([depth]))\n",
    "    layer2_weights = tf.Variable(tf.truncated_normal([patch_size, patch_size, depth, depth], stddev=0.1))\n",
    "    layer2_biases = tf.Variable(tf.zeros([depth]))\n",
    "    \n",
    "    layer3_weights = tf.Variable(tf.truncated_normal([image_size // 4 * image_size // 4 * depth, num_hidden], stddev=0.1))\n",
    "    layer3_biases = tf.Variable(tf.zeros([num_hidden]))\n",
    "    \n",
    "    layer4_weights = tf.Variable(tf.truncated_normal([num_hidden, num_labels], stddev=0.1))\n",
    "    layer4_biases = tf.Variable(tf.zeros([num_labels]))\n",
    "    \n",
    "    def model(data, PREDICT=False):\n",
    "        conv = tf.nn.conv2d(data, layer1_weights, [1,2,2,1], padding='SAME')\n",
    "        hidden = tf.nn.relu(conv+layer1_biases)\n",
    "        if not PREDICT:\n",
    "            hidden = tf.nn.dropout(hidden,keep_prob=0.5)\n",
    "        \n",
    "        conv = tf.nn.conv2d(hidden, layer2_weights, [1,2,2,1], padding='SAME')\n",
    "        hidden = tf.nn.relu(conv+layer2_biases)\n",
    "        if not PREDICT:\n",
    "            hidden = tf.nn.dropout(hidden,keep_prob=0.7)\n",
    "\n",
    "        shape = hidden.get_shape().as_list()\n",
    "        reshape = tf.reshape(hidden, [shape[0], shape[1]*shape[2]*shape[3]])\n",
    "        hidden = tf.nn.relu(tf.matmul(reshape, layer3_weights) + layer3_biases)\n",
    "        if not PREDICT:\n",
    "            hidden = tf.nn.dropout(hidden, 0.8)\n",
    "        return tf.matmul(hidden, layer4_weights) + layer4_biases\n",
    "    \n",
    "    def model_pool(data, PREDICT=False):\n",
    "        conv = tf.nn.conv2d(data, layer1_weights, [1,1,1,1], padding='SAME')\n",
    "        pool = tf.nn.max_pool(conv,[1,2,2,1],[1,2,2,1],padding='SAME')\n",
    "        hidden = tf.nn.relu(pool+layer1_biases)\n",
    "        if not PREDICT:\n",
    "            hidden = tf.nn.dropout(hidden,keep_prob=0.5)\n",
    "        \n",
    "        conv = tf.nn.conv2d(hidden, layer2_weights, [1,1,1,1], padding='SAME')\n",
    "        pool = tf.nn.max_pool(conv,[1,2,2,1],[1,2,2,1], padding='SAME')\n",
    "        hidden = tf.nn.relu(pool+layer2_biases)\n",
    "        if not PREDICT:\n",
    "            hidden = tf.nn.dropout(hidden,keep_prob=0.7)\n",
    "\n",
    "        shape = hidden.get_shape().as_list()\n",
    "        reshape = tf.reshape(hidden, [shape[0], shape[1]*shape[2]*shape[3]])\n",
    "        hidden = tf.nn.relu(tf.matmul(reshape, layer3_weights) + layer3_biases)\n",
    "        if not PREDICT:\n",
    "            hidden = tf.nn.dropout(hidden, 0.8)\n",
    "        return tf.matmul(hidden, layer4_weights) + layer4_biases\n",
    "\n",
    "    train_model = model_pool\n",
    "    logits = train_model(tf_train_dataset)\n",
    "    loss = tf.reduce_mean(tf.nn.softmax_cross_entropy_with_logits(labels=tf_train_labels,logits=logits))\n",
    "\n",
    "    cur_step = tf.Variable(0)\n",
    "    start_learning_rate = 0.05\n",
    "    learning_rate = tf.train.exponential_decay(start_learning_rate,global_step=cur_step,decay_steps=10000,decay_rate=0.96,staircase=True)\n",
    "    optimizer = tf.train.GradientDescentOptimizer(learning_rate).minimize(loss, global_step=cur_step)\n",
    "#     optimizer = tf.train.GradientDescentOptimizer(0.05).minimize(loss)\n",
    "\n",
    "    train_prediction = tf.nn.softmax(logits)\n",
    "    valid_prediction = tf.nn.softmax(train_model(tf_valid_dataset, PREDICT=True))\n",
    "    test_prediction = tf.nn.softmax(train_model(tf_test_dataset, PREDICT=True))"
   ]
  },
  {
   "cell_type": "code",
   "execution_count": 68,
   "metadata": {},
   "outputs": [
    {
     "name": "stdout",
     "output_type": "stream",
     "text": [
      "Initialized\n",
      "Minibatch Loss at step 0: 2.561693\n",
      "Minibatch Training accuracy: 12%\n",
      "Minibatch Validation accuracy:9.3%\n",
      "Minibatch Loss at step 100: 1.456724\n",
      "Minibatch Training accuracy: 44%\n",
      "Minibatch Validation accuracy:63.9%\n",
      "Minibatch Loss at step 200: 0.797898\n",
      "Minibatch Training accuracy: 75%\n",
      "Minibatch Validation accuracy:73.6%\n",
      "Minibatch Loss at step 300: 0.286605\n",
      "Minibatch Training accuracy: 100%\n",
      "Minibatch Validation accuracy:76.5%\n",
      "Minibatch Loss at step 400: 1.524935\n",
      "Minibatch Training accuracy: 56%\n",
      "Minibatch Validation accuracy:78.1%\n",
      "Minibatch Loss at step 500: 1.048518\n",
      "Minibatch Training accuracy: 50%\n",
      "Minibatch Validation accuracy:80.1%\n",
      "Minibatch Loss at step 600: 0.724149\n",
      "Minibatch Training accuracy: 75%\n",
      "Minibatch Validation accuracy:80.6%\n",
      "Minibatch Loss at step 700: 0.452690\n",
      "Minibatch Training accuracy: 88%\n",
      "Minibatch Validation accuracy:80.9%\n",
      "Minibatch Loss at step 800: 0.830807\n",
      "Minibatch Training accuracy: 62%\n",
      "Minibatch Validation accuracy:81.3%\n",
      "Minibatch Loss at step 900: 0.420093\n",
      "Minibatch Training accuracy: 75%\n",
      "Minibatch Validation accuracy:81.9%\n",
      "Minibatch Loss at step 1000: 0.901513\n",
      "Minibatch Training accuracy: 75%\n",
      "Minibatch Validation accuracy:82.7%\n",
      "Test accuracy:90%\n"
     ]
    }
   ],
   "source": [
    "num_steps = 1001\n",
    "\n",
    "with tf.Session(graph=graph) as session:\n",
    "    tf.global_variables_initializer().run()\n",
    "    print('Initialized')\n",
    "    for step in range(num_steps):\n",
    "        offset = (step*batch_size) % (train_labels.shape[0] - batch_size)\n",
    "        batch_data = train_dataset[offset:offset+batch_size, :, :, :]\n",
    "        batch_labels = train_labels[offset:offset+batch_size,:]\n",
    "        feed_dict = {tf_train_dataset:batch_data, tf_train_labels:batch_labels}\n",
    "        _,l,predictions = session.run([optimizer,loss,train_prediction], feed_dict=feed_dict)\n",
    "        if step%100==0:\n",
    "            print('Minibatch Loss at step %d: %f' % (step, l))\n",
    "            print('Minibatch Training accuracy: %.f%%' % accuracy(predictions, batch_labels))\n",
    "            print('Minibatch Validation accuracy:%.1f%%' % accuracy(valid_prediction.eval(),valid_labels))\n",
    "    print('Test accuracy:%1.f%%' % accuracy(test_prediction.eval(), test_labels))"
   ]
  },
  {
   "cell_type": "code",
   "execution_count": null,
   "metadata": {
    "collapsed": true
   },
   "outputs": [],
   "source": []
  }
 ],
 "metadata": {
  "kernelspec": {
   "display_name": "Python 3",
   "language": "python",
   "name": "python3"
  },
  "language_info": {
   "codemirror_mode": {
    "name": "ipython",
    "version": 3
   },
   "file_extension": ".py",
   "mimetype": "text/x-python",
   "name": "python",
   "nbconvert_exporter": "python",
   "pygments_lexer": "ipython3",
   "version": "3.6.2"
  }
 },
 "nbformat": 4,
 "nbformat_minor": 2
}
