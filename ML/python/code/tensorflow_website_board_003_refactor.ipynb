{
 "cells": [
  {
   "cell_type": "markdown",
   "metadata": {},
   "source": [
    "## 卷积神经网络 & TensorBoard"
   ]
  },
  {
   "cell_type": "code",
   "execution_count": 1,
   "metadata": {
    "collapsed": true
   },
   "outputs": [],
   "source": [
    "import numpy as np\n",
    "import tensorflow as tf\n",
    "import matplotlib.pyplot as plt\n",
    "from tensorflow.examples.tutorials.mnist import input_data\n",
    "import os"
   ]
  },
  {
   "cell_type": "markdown",
   "metadata": {},
   "source": [
    "## 获取数据"
   ]
  },
  {
   "cell_type": "code",
   "execution_count": 2,
   "metadata": {
    "collapsed": true,
    "scrolled": true
   },
   "outputs": [],
   "source": [
    "# GIST_URL = 'https://gist.githubusercontent.com/dandelionmane/4f02ab8f1451e276fea1f165a20336f1/raw/dfb8ee95b010480d56a73f324aca480b3820c180'\n",
    "# urllib.urlretrieve(GIST_URL + 'labels_1024.tsv', LOGDIR + 'labels_1024.tsv')\n",
    "# urllib.urlretrieve(GIST_URL + 'sprite_1024.png', LOGDIR + 'sprite_1024.png')"
   ]
  },
  {
   "cell_type": "code",
   "execution_count": 3,
   "metadata": {},
   "outputs": [
    {
     "name": "stdout",
     "output_type": "stream",
     "text": [
      "Extracting MNIST_data/train-images-idx3-ubyte.gz\n",
      "Extracting MNIST_data/train-labels-idx1-ubyte.gz\n",
      "Extracting MNIST_data/t10k-images-idx3-ubyte.gz\n",
      "Extracting MNIST_data/t10k-labels-idx1-ubyte.gz\n"
     ]
    }
   ],
   "source": [
    "mnist = input_data.read_data_sets('MNIST_data/',one_hot=True)"
   ]
  },
  {
   "cell_type": "markdown",
   "metadata": {},
   "source": [
    "## 定义模型"
   ]
  },
  {
   "cell_type": "code",
   "execution_count": 4,
   "metadata": {
    "collapsed": true
   },
   "outputs": [],
   "source": [
    "def weight_initial(shape):\n",
    "    initial = tf.truncated_normal(shape,stddev=0.1)\n",
    "    return tf.Variable(initial, name='W')\n",
    "\n",
    "def bias_initial(shape):\n",
    "    initial = tf.constant(0.1, shape=shape)\n",
    "    return tf.Variable(initial, name='b')\n",
    "\n",
    "def conv2d(x, W):\n",
    "    return tf.nn.conv2d(x, W, strides=[1, 1, 1, 1], padding='SAME')\n",
    "\n",
    "def max_pool_2x2(x):\n",
    "    return tf.nn.max_pool(x, ksize=[1,2,2,1],strides=[1,2,2,1], padding='SAME')\n",
    "\n",
    "def conv_layer(input, size_in, size_out, name='conv'):\n",
    "    with tf.name_scope(name):\n",
    "        w = weight_initial([5,5,size_in,size_out])\n",
    "        b = bias_initial([size_out])\n",
    "        h = tf.nn.relu(conv2d(input,w)+b)\n",
    "        tf.summary.histogram('weights', w)\n",
    "        tf.summary.histogram('biases', b)\n",
    "        tf.summary.histogram('activation', h)\n",
    "        return  max_pool_2x2(h)\n",
    "    \n",
    "def fc_layer(input, size_in, size_out, name='fc'):\n",
    "    with tf.name_scope(name):\n",
    "        w = weight_initial([size_in,size_out])\n",
    "        b = bias_initial([size_out])\n",
    "        h = tf.nn.relu(tf.matmul(input, w)+b)\n",
    "        tf.summary.histogram('weights', w)\n",
    "        tf.summary.histogram('biases', b)\n",
    "        tf.summary.histogram('activation', h)\n",
    "        return h"
   ]
  },
  {
   "cell_type": "code",
   "execution_count": 5,
   "metadata": {
    "collapsed": true
   },
   "outputs": [],
   "source": [
    "def make_hparam_string(learning_rate, use_two_fc, use_two_conv):\n",
    "    conv_param = \"conv=2\" if use_two_conv else \"conv=1\"\n",
    "    fc_param = \"fc=2\" if use_two_fc else \"fc=1\"\n",
    "    return \"lr_%.0E,%s,%s\" % (learning_rate, conv_param, fc_param)\n",
    "\n",
    "LOG_DIR = 'E:/workspace/documents_new/stu_github/MyStudy/ML/python/code/tensorboard/board003/'"
   ]
  },
  {
   "cell_type": "code",
   "execution_count": 6,
   "metadata": {
    "collapsed": true
   },
   "outputs": [],
   "source": [
    "def model(learning_rate, use_two_conv, use_two_fc, hparam):\n",
    "    tf.reset_default_graph()\n",
    "    sess = tf.Session()\n",
    "    # 输入层\n",
    "    x = tf.placeholder(tf.float32,shape=[None,784], name='input_x')\n",
    "    x_image = tf.reshape(x, [-1,28,28,1])\n",
    "    tf.summary.image('input',x_image,3)\n",
    "    y = tf.placeholder(tf.float32,shape=[None,10], name='input_y')\n",
    "\n",
    "    if use_two_conv:\n",
    "        # 卷积层1\n",
    "        conv1 = conv_layer(x_image,1,32,name='conv1')\n",
    "        # 卷积层2\n",
    "        conv_out = conv_layer(conv1,32,64,name='conv2')\n",
    "    else:\n",
    "        conv1 = conv_layer(x_image,1,64,name='conv')\n",
    "        conv_out = max_pool_2x2(conv1)\n",
    "\n",
    "    size_in = 7*7*64\n",
    "    flattened = tf.reshape(conv_out,[-1,size_in])\n",
    "    \n",
    "    if use_two_fc:\n",
    "        # 全连接层\n",
    "        fc1 = fc_layer(flattened, size_in, 512, name='fc1')\n",
    "        embedding_input = fc1\n",
    "        embedding_size = 512\n",
    "        \n",
    "        # Dropout\n",
    "        keep_prob = tf.placeholder(tf.float32)\n",
    "        h_fc1_drop = tf.nn.dropout(fc1, keep_prob)\n",
    "\n",
    "        # Readout layer\n",
    "        logits = fc_layer(h_fc1_drop,512,10, name='fc2')\n",
    "    else:\n",
    "        embedding_input = flattened\n",
    "        embedding_size = size_in\n",
    "        logits = fc_layer(flattened,size_in, 10, name='fc')\n",
    "        \n",
    "    # loss function \n",
    "    with tf.name_scope('loss'):\n",
    "        cross_entropy = tf.reduce_mean(tf.nn.softmax_cross_entropy_with_logits(labels=y,logits=logits))\n",
    "        tf.summary.scalar('loss', cross_entropy)\n",
    "\n",
    "    with tf.name_scope('train'):\n",
    "        optimizer = tf.train.AdamOptimizer(learning_rate)\n",
    "        train_step = optimizer.minimize(cross_entropy)\n",
    "\n",
    "    with tf.name_scope('accuracy'):\n",
    "        corrent_prediction = tf.equal(tf.arg_max(logits,1),tf.argmax(y,1))\n",
    "        accuracy = tf.reduce_mean(tf.cast(corrent_prediction,tf.float32))\n",
    "        tf.summary.scalar('accuracy', accuracy)\n",
    "        \n",
    "    summ = tf.summary.merge_all()\n",
    "    \n",
    "    saver = tf.train.Saver()\n",
    "    sess.run(tf.global_variables_initializer())\n",
    "    writer = tf.summary.FileWriter(LOG_DIR+hparam, sess.graph)\n",
    "    \n",
    "    embedding = tf.Variable(tf.zeros([1024,embedding_size], name='test_embedding'))\n",
    "    assignment = embedding.assign(embedding_input)\n",
    "    config = tf.contrib.tensorboard.plugins.projector.ProjectorConfig()\n",
    "    embedding_config = config.embeddings.add()\n",
    "    embedding_config.tensor_name = embedding.name\n",
    "    embedding_config.sprite.image_path = LOG_DIR+'sprite_1024.png'\n",
    "    embedding_config.metadata_path = LOG_DIR+'labels_1024,tsv'\n",
    "    embedding_config.sprite.single_image_dim.extend([28,28])\n",
    "    tf.contrib.tensorboard.plugins.projector.visualize_embeddings(writer,config)\n",
    "    \n",
    "    batch_size = 50\n",
    "    for i in range(2001):\n",
    "        batch_xs, batch_ys = mnist.train.next_batch(batch_size)\n",
    "        if i%5 == 0:\n",
    "            train_accuracy,s = sess.run([accuracy,summ], feed_dict={x: batch_xs, y:batch_ys, keep_prob:1})\n",
    "            writer.add_summary(s, i)\n",
    "        if i%500 == 0:\n",
    "            sess.run(assignment, feed_dict={x:mnist.test.images[:1024], y:mnist.test.labels[:1024]})\n",
    "            saver.save(sess, os.path.join(LOG_DIR, 'model.ckpt'), i)\n",
    "        sess.run(train_step, feed_dict={x: batch_xs, y:batch_ys, keep_prob:0.5})\n",
    "        print('test accuracy:',sess.run(accuracy, feed_dict={x:mnist.test.images, mnist.test.labels, keep_prob:1}))"
   ]
  },
  {
   "cell_type": "code",
   "execution_count": 7,
   "metadata": {
    "collapsed": true
   },
   "outputs": [],
   "source": [
    "learning_rate = 1e-4\n",
    "use_two_conv = True\n",
    "use_two_fc = True\n",
    "\n",
    "for lr in [1e-2,1e-4,1e-6]:\n",
    "    hparam = make_hparam_string(lr,use_two_conv,use_two_fc)\n",
    "    model(learning_rate,use_two_conv,use_two_fc,hparam)"
   ]
  },
  {
   "cell_type": "code",
   "execution_count": 8,
   "metadata": {},
   "outputs": [
    {
     "name": "stdout",
     "output_type": "stream",
     "text": [
      "0.01\n",
      "0.0001\n",
      "1e-06\n"
     ]
    }
   ],
   "source": [
    "for lr in [1e-2,1e-4,1e-6]:\n",
    "    print(lr)"
   ]
  },
  {
   "cell_type": "code",
   "execution_count": null,
   "metadata": {
    "collapsed": true
   },
   "outputs": [],
   "source": []
  }
 ],
 "metadata": {
  "kernelspec": {
   "display_name": "Python 3",
   "language": "python",
   "name": "python3"
  },
  "language_info": {
   "codemirror_mode": {
    "name": "ipython",
    "version": 3
   },
   "file_extension": ".py",
   "mimetype": "text/x-python",
   "name": "python",
   "nbconvert_exporter": "python",
   "pygments_lexer": "ipython3",
   "version": "3.6.2"
  }
 },
 "nbformat": 4,
 "nbformat_minor": 2
}
