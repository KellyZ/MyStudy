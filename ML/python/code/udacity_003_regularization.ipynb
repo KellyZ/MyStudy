{
 "cells": [
  {
   "cell_type": "code",
   "execution_count": 1,
   "metadata": {
    "collapsed": true
   },
   "outputs": [],
   "source": [
    "from __future__ import print_function\n",
    "import numpy as np\n",
    "import tensorflow as tf\n",
    "from six.moves import cPickle as pickle"
   ]
  },
  {
   "cell_type": "code",
   "execution_count": 2,
   "metadata": {},
   "outputs": [
    {
     "name": "stdout",
     "output_type": "stream",
     "text": [
      "Training info: (20000, 28, 28) (20000,)\n",
      "Valid info: (10000, 28, 28) (10000,)\n",
      "Test info: (10000, 28, 28) (10000,)\n"
     ]
    }
   ],
   "source": [
    "\"\"\" First, reload the data \"\"\"\n",
    "pickle_file = 'notMNIST.pickle'\n",
    "\n",
    "with open(pickle_file, 'rb') as f:\n",
    "    save = pickle.load(f)\n",
    "    train_dataset = save['train_dataset']\n",
    "    train_labels = save['train_labels']    \n",
    "    valid_dataset = save['valid_dataset']\n",
    "    valid_labels = save['valid_labels']    \n",
    "    test_dataset = save['test_dataset']\n",
    "    test_labels = save['test_labels']\n",
    "    del save # hint to help gc free up memory\n",
    "    print('Training info:', train_dataset.shape, train_labels.shape)\n",
    "    print('Valid info:', valid_dataset.shape, valid_labels.shape)\n",
    "    print('Test info:', test_dataset.shape, test_labels.shape)"
   ]
  },
  {
   "cell_type": "code",
   "execution_count": 3,
   "metadata": {},
   "outputs": [
    {
     "name": "stdout",
     "output_type": "stream",
     "text": [
      "Training info: (20000, 784) (20000, 10)\n",
      "Valid info: (10000, 784) (10000, 10)\n",
      "Test info: (10000, 784) (10000, 10)\n"
     ]
    }
   ],
   "source": [
    "image_size = 28\n",
    "num_labels = 10\n",
    "\n",
    "def reformat(dataset, labels):\n",
    "    dataset = dataset.reshape((-1, image_size*image_size)).astype(np.float32)\n",
    "    # map 0 to [1.0, 0.0, 0.0 ...], 1 to [0.0, 1.0, 0.0, ...]\n",
    "    labels = (np.arange(num_labels) == labels[:,None]).astype(np.float32)\n",
    "    return dataset,labels\n",
    "\n",
    "train_dataset,train_labels = reformat(train_dataset,train_labels)\n",
    "valid_dataset,valid_labels = reformat(valid_dataset,valid_labels)\n",
    "test_dataset,test_labels = reformat(test_dataset,test_labels)\n",
    "\n",
    "print('Training info:', train_dataset.shape, train_labels.shape)\n",
    "print('Valid info:', valid_dataset.shape, valid_labels.shape)\n",
    "print('Test info:', test_dataset.shape, test_labels.shape)"
   ]
  },
  {
   "cell_type": "code",
   "execution_count": 4,
   "metadata": {
    "collapsed": true
   },
   "outputs": [],
   "source": [
    "def accuracy(predictions, labels):\n",
    "    accuracy = (100.0 * np.sum(np.argmax(predictions,1) == np.argmax(labels,1)) / predictions.shape[0])\n",
    "    return accuracy"
   ]
  },
  {
   "cell_type": "code",
   "execution_count": 53,
   "metadata": {},
   "outputs": [
    {
     "name": "stdout",
     "output_type": "stream",
     "text": [
      "add layer: 0\n",
      "add layer: 1\n"
     ]
    }
   ],
   "source": [
    "# http://www.cnblogs.com/hellocwh/p/5527141.html\n",
    "\n",
    "batch_size = 256\n",
    "do_dropout = True\n",
    "do_regularization = True\n",
    "do_lrd = True\n",
    "count_hidden = 2\n",
    "\n",
    "graph = tf.Graph()\n",
    "with graph.as_default():\n",
    "    tf_train_dataset = tf.placeholder(tf.float32, shape=(batch_size, image_size*image_size))\n",
    "    tf_train_labels = tf.placeholder(tf.float32,shape=(batch_size,num_labels))\n",
    "    tf_valid_dataset = tf.constant(valid_dataset)\n",
    "    tf_test_dataset = tf.constant(test_dataset)\n",
    "    \n",
    "    # layer1\n",
    "    layer_node_count = 1024\n",
    "    hidden_stddev = np.sqrt(2.0 / 784)\n",
    "    w1 = tf.Variable(tf.truncated_normal(shape=(image_size*image_size, layer_node_count),stddev=hidden_stddev))\n",
    "    b1 = tf.Variable(tf.zeros([layer_node_count]))\n",
    "    ## layer1 train\n",
    "    output1 = tf.nn.relu(tf.matmul(tf_train_dataset, w1) + b1)\n",
    "    ## layer1 valid\n",
    "    valid_output1 = tf.nn.relu(tf.matmul(valid_dataset, w1) + b1)\n",
    "    ## layer1 test\n",
    "    test_output1 = tf.nn.relu(tf.matmul(test_dataset, w1) + b1)\n",
    "    \n",
    "    hidden = output1\n",
    "    # train dropout\n",
    "    hidden_dropout = output1\n",
    "    if do_dropout:\n",
    "        keep_prob = tf.placeholder(tf.float32)\n",
    "        hidden_dropout = tf.nn.dropout(hidden, keep_prob=keep_prob)\n",
    "    hidden_valid = valid_output1\n",
    "    hidden_test = test_output1\n",
    "    \n",
    "    layer_node_count_cur = layer_node_count\n",
    "    layer_node_count_next = layer_node_count_cur\n",
    "    hidden_weights = []\n",
    "    hidden_biases = []\n",
    "    for layer_c in range(count_hidden):\n",
    "        print('add layer:',layer_c)\n",
    "        if layer_node_count_cur>2:\n",
    "            layer_node_count_next = int(layer_node_count_cur/2)\n",
    "        else:\n",
    "            layer_node_count_next = 2\n",
    "        hidden_stddev = np.sqrt(2.0 / layer_node_count_cur)\n",
    "        hidden_w = tf.Variable(tf.truncated_normal(shape=(layer_node_count_cur, layer_node_count_next),stddev=hidden_stddev))\n",
    "        hidden_b = tf.Variable(tf.zeros([layer_node_count_next]))\n",
    "        hidden_weights.append(hidden_w)\n",
    "        hidden_biases.append(hidden_biases)\n",
    "        layer_node_count_cur = layer_node_count_next\n",
    "        \n",
    "        hidden = tf.nn.relu(tf.matmul(hidden, hidden_w) + hidden_b)\n",
    "        if do_dropout:\n",
    "            keep_prob += 0.5 * layer_c / (count_hidden + 1)\n",
    "            hidden_dropout = tf.nn.dropout(hidden, keep_prob=keep_prob)\n",
    "        hidden_valid = tf.nn.relu(tf.matmul(hidden_valid, hidden_w) + hidden_b)\n",
    "        hidden_test = tf.nn.relu(tf.matmul(hidden_test, hidden_w) + hidden_b)\n",
    "    \n",
    "    # layer2\n",
    "    w2 = tf.Variable(tf.truncated_normal(shape=(layer_node_count_next, num_labels),stddev=hidden_stddev / 2))\n",
    "    b2 = tf.Variable(tf.zeros([num_labels]))\n",
    "    \n",
    "    logits = tf.matmul(hidden_dropout, w2) + b2\n",
    "    logits_train = tf.matmul(hidden, w2) + b2\n",
    "    logits_valid = tf.matmul(hidden_valid, w2) + b2\n",
    "    logits_test = tf.matmul(hidden_test, w2) + b2\n",
    "        \n",
    "    #  regularization\n",
    "    l2_loss = 0\n",
    "    if do_regularization:\n",
    "        l2_loss = tf.nn.l2_loss(w1)+tf.nn.l2_loss(w2) #+tf.nn.l2_loss(b2)+tf.nn.l2_loss(b1)\n",
    "        for i in range(len(hidden_weights)):\n",
    "            l2_loss += tf.nn.l2_loss(hidden_weights[i])\n",
    "    beta = 1e-5\n",
    "    l2_loss = l2_loss*beta\n",
    "    loss = tf.reduce_mean(tf.nn.softmax_cross_entropy_with_logits(labels=tf_train_labels,logits=logits)) + l2_loss\n",
    "    \n",
    "    optimizer = tf.train.GradientDescentOptimizer(0.5).minimize(loss)\n",
    "    \n",
    "    # 学习率调整\n",
    "    if do_lrd:\n",
    "        cur_step = tf.Variable(0)\n",
    "        starter_learning_rate = 0.4\n",
    "        learning_rate = tf.train.exponential_decay(starter_learning_rate,cur_step,100000,0.96,staircase=True)\n",
    "        optimizer = tf.train.GradientDescentOptimizer(learning_rate).minimize(loss, global_step=cur_step)\n",
    "    \n",
    "    train_prediction = tf.nn.softmax(logits_train)\n",
    "    valid_prediction = tf.nn.softmax(logits_valid)\n",
    "    test_prediction = tf.nn.softmax(logits_test)"
   ]
  },
  {
   "cell_type": "code",
   "execution_count": 54,
   "metadata": {},
   "outputs": [
    {
     "name": "stdout",
     "output_type": "stream",
     "text": [
      "Initialized\n",
      "Minibatch Loss at step 0: 2.333661\n",
      "Minibatch Training accuracy: 10%\n",
      "Minibatch Validation accuracy:23.8%\n",
      "Minibatch Loss at step 100: 0.575901\n",
      "Minibatch Training accuracy: 83%\n",
      "Minibatch Validation accuracy:83.1%\n",
      "Minibatch Loss at step 200: 0.427137\n",
      "Minibatch Training accuracy: 86%\n",
      "Minibatch Validation accuracy:84.2%\n",
      "Minibatch Loss at step 300: 0.489078\n",
      "Minibatch Training accuracy: 86%\n",
      "Minibatch Validation accuracy:84.7%\n",
      "Minibatch Loss at step 400: 0.315622\n",
      "Minibatch Training accuracy: 91%\n",
      "Minibatch Validation accuracy:85.5%\n",
      "Minibatch Loss at step 500: 0.372993\n",
      "Minibatch Training accuracy: 88%\n",
      "Minibatch Validation accuracy:85.2%\n",
      "Minibatch Loss at step 600: 0.268637\n",
      "Minibatch Training accuracy: 93%\n",
      "Minibatch Validation accuracy:85.0%\n",
      "Minibatch Loss at step 700: 0.196315\n",
      "Minibatch Training accuracy: 95%\n",
      "Minibatch Validation accuracy:85.9%\n",
      "Minibatch Loss at step 800: 0.186221\n",
      "Minibatch Training accuracy: 96%\n",
      "Minibatch Validation accuracy:84.6%\n",
      "Minibatch Loss at step 900: 0.175658\n",
      "Minibatch Training accuracy: 96%\n",
      "Minibatch Validation accuracy:85.7%\n",
      "Minibatch Loss at step 1000: 0.207713\n",
      "Minibatch Training accuracy: 95%\n",
      "Minibatch Validation accuracy:83.9%\n",
      "Minibatch Loss at step 1100: 0.112886\n",
      "Minibatch Training accuracy: 97%\n",
      "Minibatch Validation accuracy:85.7%\n",
      "Minibatch Loss at step 1200: 0.126825\n",
      "Minibatch Training accuracy: 98%\n",
      "Minibatch Validation accuracy:85.7%\n",
      "Minibatch Loss at step 1300: 0.074053\n",
      "Minibatch Training accuracy: 100%\n",
      "Minibatch Validation accuracy:86.4%\n",
      "Minibatch Loss at step 1400: 0.063983\n",
      "Minibatch Training accuracy: 99%\n",
      "Minibatch Validation accuracy:85.7%\n",
      "Minibatch Loss at step 1500: 0.093276\n",
      "Minibatch Training accuracy: 98%\n",
      "Minibatch Validation accuracy:86.2%\n",
      "Minibatch Loss at step 1600: 0.051403\n",
      "Minibatch Training accuracy: 100%\n",
      "Minibatch Validation accuracy:85.9%\n",
      "Minibatch Loss at step 1700: 0.037462\n",
      "Minibatch Training accuracy: 100%\n",
      "Minibatch Validation accuracy:86.2%\n",
      "Minibatch Loss at step 1800: 0.085105\n",
      "Minibatch Training accuracy: 99%\n",
      "Minibatch Validation accuracy:86.2%\n",
      "Minibatch Loss at step 1900: 0.061350\n",
      "Minibatch Training accuracy: 99%\n",
      "Minibatch Validation accuracy:86.4%\n",
      "Minibatch Loss at step 2000: 0.040983\n",
      "Minibatch Training accuracy: 100%\n",
      "Minibatch Validation accuracy:86.5%\n",
      "Test accuracy:93%\n"
     ]
    }
   ],
   "source": [
    "num_steps = 2001\n",
    "with tf.Session(graph=graph) as session:\n",
    "    tf.global_variables_initializer().run()\n",
    "    print('Initialized')\n",
    "    for step in range(num_steps):\n",
    "        offset = (step*batch_size) % (train_labels.shape[0] - batch_size)\n",
    "        batch_data = train_dataset[offset:(offset+batch_size),:]\n",
    "        batch_labels = train_labels[offset:(offset+batch_size),:]\n",
    "        feed_dict = {tf_train_dataset:batch_data,tf_train_labels:batch_labels,keep_prob:0.5}\n",
    "        _, l, predictions = session.run([optimizer,loss,train_prediction], feed_dict=feed_dict)\n",
    "        if step%100==0:\n",
    "            print('Minibatch Loss at step %d: %f' % (step, l))\n",
    "            print('Minibatch Training accuracy: %.f%%' % accuracy(predictions, batch_labels))\n",
    "            print('Minibatch Validation accuracy:%.1f%%' % accuracy(valid_prediction.eval(),valid_labels))\n",
    "    print('Test accuracy:%1.f%%' % accuracy(test_prediction.eval(), test_labels))"
   ]
  },
  {
   "cell_type": "code",
   "execution_count": null,
   "metadata": {
    "collapsed": true
   },
   "outputs": [],
   "source": []
  }
 ],
 "metadata": {
  "kernelspec": {
   "display_name": "Python 3",
   "language": "python",
   "name": "python3"
  },
  "language_info": {
   "codemirror_mode": {
    "name": "ipython",
    "version": 3
   },
   "file_extension": ".py",
   "mimetype": "text/x-python",
   "name": "python",
   "nbconvert_exporter": "python",
   "pygments_lexer": "ipython3",
   "version": "3.6.2"
  }
 },
 "nbformat": 4,
 "nbformat_minor": 2
}
