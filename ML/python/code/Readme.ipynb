{
 "cells": [
  {
   "cell_type": "markdown",
   "metadata": {},
   "source": [
    "# 教程\n",
    "\n",
    "+ 莫烦python：numpy，panda，sklearn, tensorflow, keras\n",
    "+ tensorflow: tensorflow教程（十课）\n",
    "+ Deep Learning For Coders 1\n",
    "+ MXNet/Gluon 动手学深度学习"
   ]
  },
  {
   "cell_type": "markdown",
   "metadata": {},
   "source": [
    "# 数据\n",
    "\n",
    "+ Dataset from lib: iris, mnist\n",
    "+ ImgNet\n",
    "+ Kaggle"
   ]
  },
  {
   "cell_type": "markdown",
   "metadata": {},
   "source": [
    "# 工具\n",
    "\n",
    "+ vgg\n",
    "+ keras\n",
    "+ tensorflow / theano\n",
    "+ CUDA -> cuDNN\n",
    "+ GPU"
   ]
  },
  {
   "cell_type": "markdown",
   "metadata": {},
   "source": [
    "# 重要理论\n",
    "\n",
    "+ 函数逼近原理，权重，偏置\n",
    "+ 激活函数：tanh, softmax\n",
    "+ 损失函数：square, softmax_cross_entropy_with_logits（交叉熵）\n",
    "+ 优化器Optimizer: 梯度下降"
   ]
  },
  {
   "cell_type": "markdown",
   "metadata": {},
   "source": [
    "# 实践\n",
    "\n",
    "+ 图像分类，数字识别\n",
    "+ 语音识别\n",
    "+ OCR\n",
    "+ 推荐系统"
   ]
  },
  {
   "cell_type": "markdown",
   "metadata": {},
   "source": [
    "# 神经网络\n",
    "\n",
    "+ CNN\n",
    "+ RNN\n",
    "+ LSTM\n",
    "+ DNN"
   ]
  },
  {
   "cell_type": "code",
   "execution_count": null,
   "metadata": {
    "collapsed": true
   },
   "outputs": [],
   "source": []
  }
 ],
 "metadata": {
  "kernelspec": {
   "display_name": "Python 3",
   "language": "python",
   "name": "python3"
  },
  "language_info": {
   "codemirror_mode": {
    "name": "ipython",
    "version": 3
   },
   "file_extension": ".py",
   "mimetype": "text/x-python",
   "name": "python",
   "nbconvert_exporter": "python",
   "pygments_lexer": "ipython3",
   "version": "3.6.3"
  }
 },
 "nbformat": 4,
 "nbformat_minor": 2
}
