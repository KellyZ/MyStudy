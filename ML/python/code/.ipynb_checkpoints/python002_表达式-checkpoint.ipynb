{
 "cells": [
  {
   "cell_type": "markdown",
   "metadata": {},
   "source": [
    "## if语句"
   ]
  },
  {
   "cell_type": "code",
   "execution_count": 1,
   "metadata": {},
   "outputs": [
    {
     "name": "stdout",
     "output_type": "stream",
     "text": [
      "You are not adult\n"
     ]
    }
   ],
   "source": [
    "age=18\n",
    "if age>20:\n",
    "    print(\"You age is %d\" % age)\n",
    "    print(\"You are adult\")\n",
    "elif age<6:\n",
    "    print('You are kid')\n",
    "else:\n",
    "    print(\"You are not adult\")    "
   ]
  },
  {
   "cell_type": "code",
   "execution_count": 2,
   "metadata": {},
   "outputs": [
    {
     "name": "stdout",
     "output_type": "stream",
     "text": [
      "x is not null\n"
     ]
    }
   ],
   "source": [
    "#只要x是非零数值、非空字符串、非空list等，就判断为True，否则为False\n",
    "x=8\n",
    "if x:\n",
    "    print(\"x is not null\")"
   ]
  },
  {
   "cell_type": "code",
   "execution_count": 7,
   "metadata": {},
   "outputs": [
    {
     "name": "stdout",
     "output_type": "stream",
     "text": [
      "height(m):1.68\n",
      "weight(kg):60\n",
      "BMI is 21.258503\n",
      "体重正常\n"
     ]
    }
   ],
   "source": [
    "height=input('height(m):')\n",
    "weight=input('weight(kg):')\n",
    "h=float(height)\n",
    "w=float(weight)\n",
    "BMI=w/(h*h)\n",
    "print(\"BMI is %f\" % BMI)\n",
    "if BMI<18.5:\n",
    "    print('体重过轻')\n",
    "elif BMI<25:\n",
    "    print('体重正常')\n",
    "elif BMI<28:\n",
    "    print('体重过重')\n",
    "elif BMI<32:\n",
    "    print('肥胖')\n",
    "else:\n",
    "    p"
   ]
  },
  {
   "cell_type": "markdown",
   "metadata": {
    "collapsed": true
   },
   "source": [
    "- 循环语句"
   ]
  },
  {
   "cell_type": "code",
   "execution_count": 15,
   "metadata": {},
   "outputs": [
    {
     "data": {
      "text/plain": [
       "5050"
      ]
     },
     "execution_count": 15,
     "metadata": {},
     "output_type": "execute_result"
    }
   ],
   "source": [
    "sum=0\n",
    "#range(101)就可以生成0-100的整数序列\n",
    "for i in range(101):\n",
    "    sum +=i\n",
    "sum"
   ]
  },
  {
   "cell_type": "code",
   "execution_count": 17,
   "metadata": {},
   "outputs": [
    {
     "data": {
      "text/plain": [
       "5050"
      ]
     },
     "execution_count": 17,
     "metadata": {},
     "output_type": "execute_result"
    }
   ],
   "source": [
    "sum=0\n",
    "i=0\n",
    "while i<101:\n",
    "    sum+=i\n",
    "    i+=1\n",
    "sum"
   ]
  },
  {
   "cell_type": "code",
   "execution_count": null,
   "metadata": {
    "collapsed": true
   },
   "outputs": [],
   "source": []
  }
 ],
 "metadata": {
  "kernelspec": {
   "display_name": "Python 3",
   "language": "python",
   "name": "python3"
  },
  "language_info": {
   "codemirror_mode": {
    "name": "ipython",
    "version": 3
   },
   "file_extension": ".py",
   "mimetype": "text/x-python",
   "name": "python",
   "nbconvert_exporter": "python",
   "pygments_lexer": "ipython3",
   "version": "3.6.2"
  }
 },
 "nbformat": 4,
 "nbformat_minor": 2
}
