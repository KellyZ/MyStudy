{
 "cells": [
  {
   "cell_type": "markdown",
   "metadata": {},
   "source": [
    "## 卷积神经网络 & TensorBoard"
   ]
  },
  {
   "cell_type": "code",
   "execution_count": 2,
   "metadata": {
    "collapsed": true
   },
   "outputs": [],
   "source": [
    "import numpy as np\n",
    "import tensorflow as tf\n",
    "import matplotlib.pyplot as plt\n",
    "from tensorflow.examples.tutorials.mnist import input_data"
   ]
  },
  {
   "cell_type": "markdown",
   "metadata": {},
   "source": [
    "## 获取数据"
   ]
  },
  {
   "cell_type": "code",
   "execution_count": 3,
   "metadata": {},
   "outputs": [
    {
     "name": "stdout",
     "output_type": "stream",
     "text": [
      "Extracting MNIST_data/train-images-idx3-ubyte.gz\n",
      "Extracting MNIST_data/train-labels-idx1-ubyte.gz\n",
      "Extracting MNIST_data/t10k-images-idx3-ubyte.gz\n",
      "Extracting MNIST_data/t10k-labels-idx1-ubyte.gz\n"
     ]
    }
   ],
   "source": [
    "mnist = input_data.read_data_sets('MNIST_data/',one_hot=True)"
   ]
  },
  {
   "cell_type": "markdown",
   "metadata": {},
   "source": [
    "## 定义模型"
   ]
  },
  {
   "cell_type": "code",
   "execution_count": 11,
   "metadata": {
    "collapsed": true
   },
   "outputs": [],
   "source": [
    "def weight_initial(shape):\n",
    "    initial = tf.truncated_normal(shape,stddev=0.1)\n",
    "    return tf.Variable(initial)\n",
    "\n",
    "def bias_initial(shape):\n",
    "    initial = tf.constant(0.1, shape=shape)\n",
    "    return tf.Variable(initial)\n",
    "\n",
    "def conv2d(x, W):\n",
    "    return tf.nn.conv2d(x, W, strides=[1, 1, 1, 1], padding='SAME')\n",
    "\n",
    "def max_pool_2x2(x):\n",
    "    return tf.nn.max_pool(x, ksize=[1,2,2,1],strides=[1,2,2,1], padding='SAME')\n",
    "\n",
    "# 输入层\n",
    "x = tf.placeholder(tf.float32, name='input_x')\n",
    "y = tf.placeholder(tf.float32, name='input_y')\n",
    "x_image = tf.reshape(x, [-1,28,28,1])\n",
    "\n",
    "# 卷积层1\n",
    "W_conv1 = weight_initial([5,5,1,32])\n",
    "b_conv1 = bias_initial([32])\n",
    "h_conv1 = tf.nn.relu(conv2d(x_image, W_conv1)+b_conv1)\n",
    "h_pool1 = max_pool_2x2(h_conv1) # 14x14\n",
    "\n",
    "# 卷积层2\n",
    "W_conv2 = weight_initial([5,5,32,64])\n",
    "b_conv2 = bias_initial([64])\n",
    "h_conv2 = tf.nn.relu(conv2d(h_pool1, W_conv2)+b_conv2)\n",
    "h_pool2 = max_pool_2x2(h_conv2)  # 7x7\n",
    "\n",
    "# 全连接层\n",
    "W_fc1 = weight_initial([7*7*64,512])\n",
    "b_fc1 = bias_initial([512])\n",
    "h_pool2_flat = tf.reshape(h_pool2, [-1,7*7*64])\n",
    "h_fc1 = tf.nn.relu(tf.matmul(h_pool2_flat, W_fc1) + b_fc1)\n",
    "\n",
    "# Dropout\n",
    "keep_prob = tf.placeholder(tf.float32)\n",
    "h_fc1_drop = tf.nn.dropout(h_fc1, keep_prob)\n",
    "\n",
    "# Readout layer\n",
    "W_fc2 = weight_initial([512,10])\n",
    "b_fc2 = bias_initial([10])\n",
    "y_conv = tf.matmul(h_fc1_drop, W_fc2) + b_fc2"
   ]
  },
  {
   "cell_type": "code",
   "execution_count": 12,
   "metadata": {},
   "outputs": [],
   "source": [
    "# loss function \n",
    "cross_entropy = tf.reduce_mean(tf.nn.softmax_cross_entropy_with_logits(labels=y,logits=y_conv))\n",
    "optimizer = tf.train.AdamOptimizer(1e-4)\n",
    "train_step = optimizer.minimize(cross_entropy)\n",
    "\n",
    "corrent_prediction = tf.equal(tf.arg_max(y_conv,1),tf.argmax(y,1))\n",
    "accuracy = tf.reduce_mean(tf.cast(corrent_prediction,tf.float32))"
   ]
  },
  {
   "cell_type": "code",
   "execution_count": 13,
   "metadata": {},
   "outputs": [
    {
     "name": "stdout",
     "output_type": "stream",
     "text": [
      "step 0-99, training accuracy 0.8\n",
      "step 0-199, training accuracy 0.72\n",
      "step 0-299, training accuracy 0.86\n",
      "step 0-399, training accuracy 0.94\n",
      "step 0-499, training accuracy 0.94\n",
      "step 0-599, training accuracy 0.96\n",
      "step 0-699, training accuracy 0.92\n",
      "step 0-799, training accuracy 0.92\n",
      "step 0-899, training accuracy 0.92\n",
      "step 0-999, training accuracy 0.96\n",
      "step 0-1099, training accuracy 0.92\n",
      "step 1-99, training accuracy 0.9\n",
      "step 1-199, training accuracy 0.96\n",
      "step 1-299, training accuracy 0.98\n",
      "step 1-399, training accuracy 0.94\n",
      "step 1-499, training accuracy 0.98\n",
      "step 1-599, training accuracy 0.96\n",
      "step 1-699, training accuracy 1\n",
      "step 1-799, training accuracy 0.98\n",
      "step 1-899, training accuracy 0.96\n",
      "step 1-999, training accuracy 0.94\n",
      "step 1-1099, training accuracy 0.94\n",
      "step 2-99, training accuracy 0.96\n",
      "step 2-199, training accuracy 1\n",
      "step 2-299, training accuracy 1\n",
      "step 2-399, training accuracy 0.96\n",
      "step 2-499, training accuracy 1\n",
      "step 2-599, training accuracy 0.94\n",
      "step 2-699, training accuracy 1\n",
      "step 2-799, training accuracy 0.96\n",
      "step 2-899, training accuracy 1\n",
      "step 2-999, training accuracy 1\n",
      "step 2-1099, training accuracy 1\n",
      "test accuracy 0.9792\n"
     ]
    }
   ],
   "source": [
    "batch_size = 50\n",
    "n_batch = mnist.train.num_examples // batch_size\n",
    "\n",
    "with tf.Session() as sess:\n",
    "    sess.run(tf.global_variables_initializer())\n",
    "    for epoch in range(3):\n",
    "        for batch in range(n_batch):\n",
    "            batch_xs, batch_ys = mnist.train.next_batch(batch_size)\n",
    "            if (batch+1)%100 == 0:\n",
    "                train_accuracy = accuracy.eval(feed_dict={x: batch_xs, y:batch_ys, keep_prob:1.0})\n",
    "                print('step %d-%d, training accuracy %g' % (epoch,batch, train_accuracy))\n",
    "            train_step.run(feed_dict={x: batch_xs, y:batch_ys, keep_prob:0.5})\n",
    "            \n",
    "    print('test accuracy %g' % accuracy.eval(feed_dict={\n",
    "      x: mnist.test.images, y: mnist.test.labels, keep_prob: 1.0}))"
   ]
  },
  {
   "cell_type": "code",
   "execution_count": 8,
   "metadata": {},
   "outputs": [
    {
     "data": {
      "text/plain": [
       "1100"
      ]
     },
     "execution_count": 8,
     "metadata": {},
     "output_type": "execute_result"
    }
   ],
   "source": [
    "n_batch"
   ]
  },
  {
   "cell_type": "code",
   "execution_count": null,
   "metadata": {
    "collapsed": true
   },
   "outputs": [],
   "source": []
  }
 ],
 "metadata": {
  "kernelspec": {
   "display_name": "Python 3",
   "language": "python",
   "name": "python3"
  },
  "language_info": {
   "codemirror_mode": {
    "name": "ipython",
    "version": 3
   },
   "file_extension": ".py",
   "mimetype": "text/x-python",
   "name": "python",
   "nbconvert_exporter": "python",
   "pygments_lexer": "ipython3",
   "version": "3.6.3"
  }
 },
 "nbformat": 4,
 "nbformat_minor": 2
}
