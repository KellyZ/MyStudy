{
 "cells": [
  {
   "cell_type": "code",
   "execution_count": null,
   "metadata": {
    "collapsed": true
   },
   "outputs": [],
   "source": [
    "import tensorflow as tf"
   ]
  },
  {
   "cell_type": "code",
   "execution_count": null,
   "metadata": {},
   "outputs": [],
   "source": [
    "# optimizer\n",
    "\n",
    "# 标准梯度下降法\n",
    "tf.train.GradienDescentOptimizer\n",
    "\n",
    "tf.train.AdadeltaOptimizer\n",
    "\n",
    "tf.train.AdagradOptimizer\n",
    "tf.train.AdagradDAOptimizer\n",
    "\n",
    "tf.train.MomentumOptimizer\n",
    "\n",
    "tf.train.AdamOptimizer\n",
    "\n",
    "tf.train.FtrlOptimizer\n",
    "\n",
    "tf.train.ProximalAdagradOptimizer\n",
    "tf.train.ProximalGradientDescentOptimizer\n",
    "\n",
    "tf.train.RMSPropOptimizer"
   ]
  },
  {
   "cell_type": "code",
   "execution_count": null,
   "metadata": {
    "collapsed": true
   },
   "outputs": [],
   "source": [
    "# 激活函数\n",
    "tf.nn.relu\n",
    "tf.nn.relu6\n",
    "tf.nn.crelu\n",
    "tf.nn.elu\n",
    "tf.nn.selu\n",
    "tf.nn.softplus\n",
    "tf.nn.softsign\n",
    "tf.nn.dropout\n",
    "tf.nn.bias_add\n",
    "tf.sigmoid\n",
    "tf.tanh"
   ]
  },
  {
   "cell_type": "code",
   "execution_count": null,
   "metadata": {
    "collapsed": true
   },
   "outputs": [],
   "source": [
    "# coss函数\n",
    "tf.nn.softmax_cross_entropy_with_logits\n",
    "\n",
    "tf.square"
   ]
  }
 ],
 "metadata": {
  "kernelspec": {
   "display_name": "Python 3",
   "language": "python",
   "name": "python3"
  },
  "language_info": {
   "codemirror_mode": {
    "name": "ipython",
    "version": 3
   },
   "file_extension": ".py",
   "mimetype": "text/x-python",
   "name": "python",
   "nbconvert_exporter": "python",
   "pygments_lexer": "ipython3",
   "version": "3.6.2"
  }
 },
 "nbformat": 4,
 "nbformat_minor": 2
}
