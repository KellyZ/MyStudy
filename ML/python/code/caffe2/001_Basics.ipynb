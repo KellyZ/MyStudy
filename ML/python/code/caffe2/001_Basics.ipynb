{
 "cells": [
  {
   "cell_type": "code",
   "execution_count": 1,
   "metadata": {},
   "outputs": [
    {
     "name": "stderr",
     "output_type": "stream",
     "text": [
      "WARNING:root:This caffe2 python run does not have GPU support. Will run in CPU only mode.\n",
      "WARNING:root:Debug message: No module named caffe2_pybind11_state_gpu\n"
     ]
    }
   ],
   "source": [
    "from matplotlib import pyplot\n",
    "import numpy as np\n",
    "import time\n",
    "\n",
    "from caffe2.python import core,workspace\n",
    "from caffe2.proto import caffe2_pb2\n",
    "\n",
    "%matplotlib inline"
   ]
  },
  {
   "cell_type": "markdown",
   "metadata": {},
   "source": [
    "## workspace"
   ]
  },
  {
   "cell_type": "code",
   "execution_count": 2,
   "metadata": {},
   "outputs": [
    {
     "name": "stdout",
     "output_type": "stream",
     "text": [
      "current blobs in the workspace:[]\n"
     ]
    }
   ],
   "source": [
    "print(\"current blobs in the workspace:{}\".format(workspace.Blobs()))"
   ]
  },
  {
   "cell_type": "code",
   "execution_count": 3,
   "metadata": {},
   "outputs": [
    {
     "name": "stdout",
     "output_type": "stream",
     "text": [
      "workspace has blob 'X':False\n"
     ]
    }
   ],
   "source": [
    "print(\"workspace has blob 'X':{}\".format(workspace.HasBlob('X')))"
   ]
  },
  {
   "cell_type": "code",
   "execution_count": 4,
   "metadata": {},
   "outputs": [
    {
     "name": "stdout",
     "output_type": "stream",
     "text": [
      "Generated X from numpy:\n",
      "[[ 1.17113626  1.24631178 -0.26786563]\n",
      " [ 0.72599679  1.25666177  1.43860745]]\n"
     ]
    },
    {
     "data": {
      "text/plain": [
       "True"
      ]
     },
     "execution_count": 4,
     "metadata": {},
     "output_type": "execute_result"
    }
   ],
   "source": [
    "X = np.random.randn(2,3).astype(np.float32)\n",
    "print('Generated X from numpy:\\n{}'.format(X))\n",
    "workspace.FeedBlob('X',X)"
   ]
  },
  {
   "cell_type": "code",
   "execution_count": 6,
   "metadata": {},
   "outputs": [
    {
     "name": "stdout",
     "output_type": "stream",
     "text": [
      "current blobs in the workspace:[u'X']\n",
      "workspace has blob 'X':True\n",
      "Fetched X:\n",
      "[[ 1.17113626  1.24631178 -0.26786563]\n",
      " [ 0.72599679  1.25666177  1.43860745]]\n"
     ]
    }
   ],
   "source": [
    "print(\"current blobs in the workspace:{}\".format(workspace.Blobs()))\n",
    "print(\"workspace has blob 'X':{}\".format(workspace.HasBlob('X')))\n",
    "print(\"Fetched X:\\n{}\".format(workspace.FetchBlob('X')))"
   ]
  },
  {
   "cell_type": "code",
   "execution_count": 7,
   "metadata": {
    "collapsed": true
   },
   "outputs": [],
   "source": [
    "np.testing.assert_array_equal(X, workspace.FetchBlob('X'))"
   ]
  },
  {
   "cell_type": "code",
   "execution_count": 8,
   "metadata": {},
   "outputs": [
    {
     "name": "stdout",
     "output_type": "stream",
     "text": [
      "[enforce fail at pybind_state.cc:150] ws->HasBlob(name). Can't find blob: invalid_name \n"
     ]
    }
   ],
   "source": [
    "try:\n",
    "    workspace.FetchBlob('invalid_name')\n",
    "except RuntimeError as err:\n",
    "    print(err)"
   ]
  },
  {
   "cell_type": "code",
   "execution_count": 10,
   "metadata": {},
   "outputs": [
    {
     "data": {
      "text/plain": [
       "u'default'"
      ]
     },
     "execution_count": 10,
     "metadata": {},
     "output_type": "execute_result"
    }
   ],
   "source": [
    "workspace.CurrentWorkspace()"
   ]
  },
  {
   "cell_type": "code",
   "execution_count": 11,
   "metadata": {},
   "outputs": [
    {
     "data": {
      "text/plain": [
       "u'gutentag'"
      ]
     },
     "execution_count": 11,
     "metadata": {},
     "output_type": "execute_result"
    }
   ],
   "source": [
    "workspace.SwitchWorkspace(\"gutentag\",True)\n",
    "workspace.CurrentWorkspace()"
   ]
  },
  {
   "cell_type": "code",
   "execution_count": 12,
   "metadata": {},
   "outputs": [
    {
     "data": {
      "text/plain": [
       "[]"
      ]
     },
     "execution_count": 12,
     "metadata": {},
     "output_type": "execute_result"
    }
   ],
   "source": [
    "workspace.Blobs()"
   ]
  },
  {
   "cell_type": "code",
   "execution_count": 13,
   "metadata": {},
   "outputs": [
    {
     "data": {
      "text/plain": [
       "[u'X']"
      ]
     },
     "execution_count": 13,
     "metadata": {},
     "output_type": "execute_result"
    }
   ],
   "source": [
    "workspace.SwitchWorkspace(\"default\")\n",
    "workspace.Blobs()"
   ]
  },
  {
   "cell_type": "code",
   "execution_count": 14,
   "metadata": {},
   "outputs": [
    {
     "data": {
      "text/plain": [
       "[]"
      ]
     },
     "execution_count": 14,
     "metadata": {},
     "output_type": "execute_result"
    }
   ],
   "source": [
    "workspace.ResetWorkspace()\n",
    "workspace.Blobs()"
   ]
  },
  {
   "cell_type": "markdown",
   "metadata": {},
   "source": [
    "## Operators"
   ]
  },
  {
   "cell_type": "code",
   "execution_count": 15,
   "metadata": {
    "collapsed": true
   },
   "outputs": [],
   "source": [
    "op = core.CreateOperator('Relu',[\"X\"],[\"Y\"])"
   ]
  },
  {
   "cell_type": "code",
   "execution_count": 16,
   "metadata": {},
   "outputs": [
    {
     "data": {
      "text/plain": [
       "caffe2.proto.caffe2_pb2.OperatorDef"
      ]
     },
     "execution_count": 16,
     "metadata": {},
     "output_type": "execute_result"
    }
   ],
   "source": [
    "type(op)"
   ]
  },
  {
   "cell_type": "code",
   "execution_count": 18,
   "metadata": {},
   "outputs": [
    {
     "name": "stdout",
     "output_type": "stream",
     "text": [
      "input: \"X\"\n",
      "output: \"Y\"\n",
      "name: \"\"\n",
      "type: \"Relu\"\n",
      "\n"
     ]
    }
   ],
   "source": [
    "print(str(op))"
   ]
  },
  {
   "cell_type": "code",
   "execution_count": 20,
   "metadata": {},
   "outputs": [
    {
     "data": {
      "text/plain": [
       "True"
      ]
     },
     "execution_count": 20,
     "metadata": {},
     "output_type": "execute_result"
    }
   ],
   "source": [
    "workspace.FeedBlob('X',np.random.randn(2,3).astype(np.float32))\n",
    "workspace.RunOperatorOnce(op)"
   ]
  },
  {
   "cell_type": "code",
   "execution_count": 21,
   "metadata": {},
   "outputs": [
    {
     "data": {
      "text/plain": [
       "[u'X', u'Y']"
      ]
     },
     "execution_count": 21,
     "metadata": {},
     "output_type": "execute_result"
    }
   ],
   "source": [
    "workspace.Blobs()"
   ]
  },
  {
   "cell_type": "code",
   "execution_count": 22,
   "metadata": {},
   "outputs": [
    {
     "data": {
      "text/plain": [
       "array([[ 0.        ,  0.        ,  0.12539732],\n",
       "       [ 0.        ,  0.        ,  0.        ]], dtype=float32)"
      ]
     },
     "execution_count": 22,
     "metadata": {},
     "output_type": "execute_result"
    }
   ],
   "source": [
    "workspace.FetchBlob('Y')"
   ]
  },
  {
   "cell_type": "code",
   "execution_count": 23,
   "metadata": {},
   "outputs": [
    {
     "data": {
      "text/plain": [
       "array([[-1.78760517, -0.21056654,  0.12539732],\n",
       "       [-0.9388563 , -0.45075026, -0.2629256 ]], dtype=float32)"
      ]
     },
     "execution_count": 23,
     "metadata": {},
     "output_type": "execute_result"
    }
   ],
   "source": [
    "workspace.FetchBlob('X')"
   ]
  },
  {
   "cell_type": "code",
   "execution_count": 24,
   "metadata": {},
   "outputs": [
    {
     "name": "stdout",
     "output_type": "stream",
     "text": [
      "output: \"Z\"\n",
      "name: \"\"\n",
      "type: \"GaussianFill\"\n",
      "arg {\n",
      "  name: \"std\"\n",
      "  f: 1.0\n",
      "}\n",
      "arg {\n",
      "  name: \"shape\"\n",
      "  ints: 100\n",
      "  ints: 100\n",
      "}\n",
      "arg {\n",
      "  name: \"mean\"\n",
      "  f: 1.0\n",
      "}\n",
      "\n"
     ]
    }
   ],
   "source": [
    "op = core.CreateOperator('GaussianFill',[],[\"Z\"],shape=[100,100],mean=1.0,std=1.0)\n",
    "print(str(op))"
   ]
  },
  {
   "cell_type": "code",
   "execution_count": 26,
   "metadata": {},
   "outputs": [
    {
     "data": {
      "text/plain": [
       "<matplotlib.text.Text at 0x7f1e4a663490>"
      ]
     },
     "execution_count": 26,
     "metadata": {},
     "output_type": "execute_result"
    },
    {
     "data": {
      "image/png": "[encoded data removed]",
      "text/plain": [
       "<matplotlib.figure.Figure at 0x7f1e4bd475d0>"
      ]
     },
     "metadata": {},
     "output_type": "display_data"
    }
   ],
   "source": [
    "workspace.RunOperatorOnce(op)\n",
    "temp = workspace.FetchBlob(\"Z\")\n",
    "pyplot.hist(temp.flatten(), bins=50)\n",
    "pyplot.title(\"Distribution of Z\")"
   ]
  },
  {
   "cell_type": "markdown",
   "metadata": {},
   "source": [
    "## Nets"
   ]
  },
  {
   "cell_type": "code",
   "execution_count": 27,
   "metadata": {},
   "outputs": [
    {
     "name": "stdout",
     "output_type": "stream",
     "text": [
      "name: \"my_first_net\"\n",
      "\n"
     ]
    }
   ],
   "source": [
    "net = core.Net(\"my_first_net\")\n",
    "print(net.Proto())"
   ]
  },
  {
   "cell_type": "code",
   "execution_count": 28,
   "metadata": {},
   "outputs": [
    {
     "name": "stdout",
     "output_type": "stream",
     "text": [
      "name: \"my_first_net\"\n",
      "op {\n",
      "  output: \"X\"\n",
      "  name: \"\"\n",
      "  type: \"GaussianFill\"\n",
      "  arg {\n",
      "    name: \"std\"\n",
      "    f: 1.0\n",
      "  }\n",
      "  arg {\n",
      "    name: \"run_once\"\n",
      "    i: 0\n",
      "  }\n",
      "  arg {\n",
      "    name: \"shape\"\n",
      "    ints: 2\n",
      "    ints: 3\n",
      "  }\n",
      "  arg {\n",
      "    name: \"mean\"\n",
      "    f: 0.0\n",
      "  }\n",
      "}\n",
      "\n"
     ]
    }
   ],
   "source": [
    "X = net.GaussianFill([],[\"X\"], mean=0.0, std=1.0, shape=[2,3], run_once=0)\n",
    "print(net.Proto())"
   ]
  },
  {
   "cell_type": "code",
   "execution_count": 29,
   "metadata": {},
   "outputs": [
    {
     "data": {
      "text/plain": [
       "caffe2.python.core.BlobReference"
      ]
     },
     "execution_count": 29,
     "metadata": {},
     "output_type": "execute_result"
    }
   ],
   "source": [
    "type(X)"
   ]
  },
  {
   "cell_type": "code",
   "execution_count": 30,
   "metadata": {
    "collapsed": true
   },
   "outputs": [],
   "source": [
    "W = net.GaussianFill([],['W'], mean=0.0, std=1.0, shape=[5,3], run_once=0)\n",
    "b = net.ConstantFill([],['b'], shape=[5,], value=1.0, run_once=0)"
   ]
  },
  {
   "cell_type": "code",
   "execution_count": 31,
   "metadata": {
    "collapsed": true
   },
   "outputs": [],
   "source": [
    "Y = X.FC([W,b],[\"Y\"])"
   ]
  },
  {
   "cell_type": "code",
   "execution_count": 32,
   "metadata": {},
   "outputs": [
    {
     "name": "stdout",
     "output_type": "stream",
     "text": [
      "name: \"my_first_net\"\n",
      "op {\n",
      "  output: \"X\"\n",
      "  name: \"\"\n",
      "  type: \"GaussianFill\"\n",
      "  arg {\n",
      "    name: \"std\"\n",
      "    f: 1.0\n",
      "  }\n",
      "  arg {\n",
      "    name: \"run_once\"\n",
      "    i: 0\n",
      "  }\n",
      "  arg {\n",
      "    name: \"shape\"\n",
      "    ints: 2\n",
      "    ints: 3\n",
      "  }\n",
      "  arg {\n",
      "    name: \"mean\"\n",
      "    f: 0.0\n",
      "  }\n",
      "}\n",
      "op {\n",
      "  output: \"W\"\n",
      "  name: \"\"\n",
      "  type: \"GaussianFill\"\n",
      "  arg {\n",
      "    name: \"std\"\n",
      "    f: 1.0\n",
      "  }\n",
      "  arg {\n",
      "    name: \"run_once\"\n",
      "    i: 0\n",
      "  }\n",
      "  arg {\n",
      "    name: \"shape\"\n",
      "    ints: 5\n",
      "    ints: 3\n",
      "  }\n",
      "  arg {\n",
      "    name: \"mean\"\n",
      "    f: 0.0\n",
      "  }\n",
      "}\n",
      "op {\n",
      "  output: \"b\"\n",
      "  name: \"\"\n",
      "  type: \"ConstantFill\"\n",
      "  arg {\n",
      "    name: \"run_once\"\n",
      "    i: 0\n",
      "  }\n",
      "  arg {\n",
      "    name: \"shape\"\n",
      "    ints: 5\n",
      "  }\n",
      "  arg {\n",
      "    name: \"value\"\n",
      "    f: 1.0\n",
      "  }\n",
      "}\n",
      "op {\n",
      "  input: \"X\"\n",
      "  input: \"W\"\n",
      "  input: \"b\"\n",
      "  output: \"Y\"\n",
      "  name: \"\"\n",
      "  type: \"FC\"\n",
      "}\n",
      "\n"
     ]
    }
   ],
   "source": [
    "print(net.Proto())"
   ]
  },
  {
   "cell_type": "code",
   "execution_count": 33,
   "metadata": {},
   "outputs": [
    {
     "data": {
      "image/png": "[encoded data removed]",
      "text/plain": [
       "<IPython.core.display.Image object>"
      ]
     },
     "execution_count": 33,
     "metadata": {
      "image/png": {
       "width": 800
      }
     },
     "output_type": "execute_result"
    }
   ],
   "source": [
    "from caffe2.python import net_drawer\n",
    "from IPython import display\n",
    "graph = net_drawer.GetPydotGraph(net, rankdir=\"LR\")\n",
    "display.Image(graph.create_png(), width=800)"
   ]
  },
  {
   "cell_type": "code",
   "execution_count": 35,
   "metadata": {},
   "outputs": [
    {
     "name": "stdout",
     "output_type": "stream",
     "text": [
      "[array([[ 2.25922728, -0.19354826,  0.48196158],\n",
      "       [ 1.55991471, -0.57021868,  0.51736099]], dtype=float32), array([[-0.17697838,  0.13829303, -0.84006411],\n",
      "       [-0.68941927,  0.45068941,  2.02395248],\n",
      "       [ 0.10685654,  0.05194186,  0.62923634],\n",
      "       [ 0.99753147, -1.0308665 , -1.08119071],\n",
      "       [ 0.37230811,  0.38608053,  0.29481685]], dtype=float32), array([ 1.,  1.,  1.,  1.,  1.], dtype=float32), array([[ 0.16852063,  0.33068228,  1.53462768,  2.93208051,  1.90849376],\n",
      "       [ 0.21045518,  0.71468723,  1.4626112 ,  2.58451748,  1.51314521]], dtype=float32)]\n"
     ]
    }
   ],
   "source": [
    "workspace.ResetWorkspace()\n",
    "workspace.RunNetOnce(net)\n",
    "print(workspace.FetchBlobs([\"X\",\"W\",\"b\",\"Y\"]))"
   ]
  },
  {
   "cell_type": "code",
   "execution_count": 36,
   "metadata": {},
   "outputs": [
    {
     "data": {
      "text/plain": [
       "True"
      ]
     },
     "execution_count": 36,
     "metadata": {},
     "output_type": "execute_result"
    }
   ],
   "source": [
    "workspace.ResetWorkspace()\n",
    "workspace.CreateNet(net)\n",
    "workspace.RunNet(net.Proto().name)"
   ]
  },
  {
   "cell_type": "code",
   "execution_count": null,
   "metadata": {
    "collapsed": true
   },
   "outputs": [],
   "source": []
  }
 ],
 "metadata": {
  "kernelspec": {
   "display_name": "Python 2",
   "language": "python",
   "name": "python2"
  },
  "language_info": {
   "codemirror_mode": {
    "name": "ipython",
    "version": 2
   },
   "file_extension": ".py",
   "mimetype": "text/x-python",
   "name": "python",
   "nbconvert_exporter": "python",
   "pygments_lexer": "ipython2",
   "version": "2.7.6"
  }
 },
 "nbformat": 4,
 "nbformat_minor": 2
}
