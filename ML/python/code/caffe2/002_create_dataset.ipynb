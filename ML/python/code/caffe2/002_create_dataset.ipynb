{
 "cells": [
  {
   "cell_type": "code",
   "execution_count": 1,
   "metadata": {},
   "outputs": [
    {
     "name": "stderr",
     "output_type": "stream",
     "text": [
      "WARNING:root:This caffe2 python run does not have GPU support. Will run in CPU only mode.\n",
      "WARNING:root:Debug message: No module named caffe2_pybind11_state_gpu\n"
     ]
    }
   ],
   "source": [
    "import urllib2\n",
    "import numpy as np\n",
    "from matplotlib import pyplot\n",
    "from StringIO import StringIO\n",
    "from caffe2.python import core,workspace,utils\n",
    "from caffe2.proto import caffe2_pb2\n",
    "\n",
    "%matplotlib inline"
   ]
  },
  {
   "cell_type": "code",
   "execution_count": 2,
   "metadata": {},
   "outputs": [
    {
     "name": "stdout",
     "output_type": "stream",
     "text": [
      "Raw data looks like this:\n",
      "5.1,3.5,1.4,0.2,Iris-setosa\n",
      "4.9,3.0,1.4,0.2,Iris-setosa\n",
      "4.7,3.2,1.3,0.2,Iris-setosa\n",
      "4.6,3.1,1.5,0.2,...\n"
     ]
    }
   ],
   "source": [
    "f = urllib2.urlopen('https://archive.ics.uci.edu/ml/machine-learning-databases/iris/iris.data')\n",
    "raw_data = f.read()\n",
    "print(\"Raw data looks like this:\")\n",
    "print(raw_data[:100] + '...')"
   ]
  },
  {
   "cell_type": "code",
   "execution_count": 3,
   "metadata": {
    "collapsed": true
   },
   "outputs": [],
   "source": [
    "features = np.loadtxt(StringIO(raw_data), dtype=np.float32, delimiter=',',usecols=(0,1,2,3))\n",
    "label_converter = lambda s : {'Iris-setosa':0,'Iris-versicolor':1,'Iris-virginica':2}[s]\n",
    "labels = np.loadtxt(StringIO(raw_data), dtype=np.int, delimiter=',', usecols=(4,), converters={4: label_converter})"
   ]
  },
  {
   "cell_type": "code",
   "execution_count": 4,
   "metadata": {
    "collapsed": true
   },
   "outputs": [],
   "source": [
    "random_index = np.random.permutation(150)\n",
    "features = features[random_index]\n",
    "labels = labels[random_index]\n",
    "\n",
    "train_features = features[:100]\n",
    "train_labels = labels[:100]\n",
    "test_features = features[100:]\n",
    "test_labels = labels[100:]"
   ]
  },
  {
   "cell_type": "code",
   "execution_count": 7,
   "metadata": {},
   "outputs": [
    {
     "data": {
      "image/png": "[encoded data removed]",
      "text/plain": [
       "<matplotlib.figure.Figure at 0x7f1f2033ae90>"
      ]
     },
     "metadata": {},
     "output_type": "display_data"
    },
    {
     "data": {
      "image/png": "[encoded data removed]",
      "text/plain": [
       "<matplotlib.figure.Figure at 0x7f1f2010c790>"
      ]
     },
     "metadata": {},
     "output_type": "display_data"
    }
   ],
   "source": [
    "# plot the first two features together with the label\n",
    "legend = ['rx','b+','go']\n",
    "pyplot.title('Training data distribution, feature 0 and 1')\n",
    "for i in range(3):\n",
    "    pyplot.plot(train_features[train_labels==i,0], train_features[train_labels==i, 1], legend[i])\n",
    "pyplot.figure()\n",
    "pyplot.title(\"Testing data distribution, feature 0 and 1\")\n",
    "for i in range(3):\n",
    "    pyplot.plot(test_features[test_labels==i, 0], test_features[test_labels==i, 1], legend[i])"
   ]
  },
  {
   "cell_type": "code",
   "execution_count": 9,
   "metadata": {},
   "outputs": [
    {
     "name": "stdout",
     "output_type": "stream",
     "text": [
      "protos {\n",
      "  dims: 4\n",
      "  data_type: FLOAT\n",
      "  float_data: 5.5\n",
      "  float_data: 2.40000009537\n",
      "  float_data: 3.79999995232\n",
      "  float_data: 1.10000002384\n",
      "}\n",
      "protos {\n",
      "  data_type: INT32\n",
      "  int32_data: 1\n",
      "}\n",
      "\n",
      "\n",
      "\u0016\b\u0004\u0010\u0001\u001a\u0010\u0000\u0000�@��\u0019@33s@�̌?\n",
      "\u0005\u0010\u0002\"\u0001\u0001\n"
     ]
    }
   ],
   "source": [
    "feature_and_label = caffe2_pb2.TensorProtos()\n",
    "feature_and_label.protos.extend([\n",
    "    utils.NumpyArrayToCaffe2Tensor(features[0]),\n",
    "    utils.NumpyArrayToCaffe2Tensor(labels[0])\n",
    "])\n",
    "print(str(feature_and_label))\n",
    "print(feature_and_label.SerializeToString())"
   ]
  },
  {
   "cell_type": "code",
   "execution_count": 11,
   "metadata": {},
   "outputs": [],
   "source": [
    "# Now, acturally write the db\n",
    "def write_db(db_type, db_name, features, labels):\n",
    "    db = core.C.create_db(db_type, db_name, core.C.Mode.write)\n",
    "    transaction = db.new_transaction()\n",
    "    for i in range(features.shape[0]):\n",
    "        feature_and_label = caffe2_pb2.TensorProtos()\n",
    "        feature_and_label.protos.extend([\n",
    "            utils.NumpyArrayToCaffe2Tensor(features[i]),\n",
    "            utils.NumpyArrayToCaffe2Tensor(labels[i])\n",
    "        ])\n",
    "        transaction.put('train_%03d'.format(i),feature_and_label.SerializeToString())\n",
    "    del transaction\n",
    "    del db\n",
    "    \n",
    "write_db(\"minidb\",\"iris_train.minidb\",train_features, train_labels)\n",
    "write_db(\"minidb\",\"iris_test.minidb\",test_features, test_labels)"
   ]
  },
  {
   "cell_type": "code",
   "execution_count": 12,
   "metadata": {},
   "outputs": [
    {
     "name": "stdout",
     "output_type": "stream",
     "text": [
      "The net looks like this\n",
      "name: \"example_reader\"\n",
      "op {\n",
      "  output: \"dbreader\"\n",
      "  name: \"\"\n",
      "  type: \"CreateDB\"\n",
      "  arg {\n",
      "    name: \"db_type\"\n",
      "    s: \"minidb\"\n",
      "  }\n",
      "  arg {\n",
      "    name: \"db\"\n",
      "    s: \"iris_train.minidb\"\n",
      "  }\n",
      "}\n",
      "op {\n",
      "  input: \"dbreader\"\n",
      "  output: \"X\"\n",
      "  output: \"Y\"\n",
      "  name: \"\"\n",
      "  type: \"TensorProtosDBInput\"\n",
      "  arg {\n",
      "    name: \"batch_size\"\n",
      "    i: 16\n",
      "  }\n",
      "}\n",
      "\n"
     ]
    }
   ],
   "source": [
    "net_proto = core.Net('example_reader')\n",
    "dbreader = net_proto.CreateDB([], \"dbreader\", db=\"iris_train.minidb\", db_type=\"minidb\")\n",
    "net_proto.TensorProtosDBInput([dbreader],[\"X\",\"Y\"], batch_size=16)\n",
    "\n",
    "print(\"The net looks like this\")\n",
    "print(str(net_proto.Proto()))"
   ]
  },
  {
   "cell_type": "code",
   "execution_count": 13,
   "metadata": {},
   "outputs": [
    {
     "data": {
      "text/plain": [
       "True"
      ]
     },
     "execution_count": 13,
     "metadata": {},
     "output_type": "execute_result"
    }
   ],
   "source": [
    "workspace.CreateNet(net_proto)"
   ]
  },
  {
   "cell_type": "code",
   "execution_count": 14,
   "metadata": {},
   "outputs": [
    {
     "name": "stdout",
     "output_type": "stream",
     "text": [
      "[[ 5.5         2.4000001   3.79999995  1.10000002]\n",
      " [ 6.30000019  2.79999995  5.0999999   1.5       ]\n",
      " [ 6.9000001   3.20000005  5.69999981  2.29999995]\n",
      " [ 6.          2.20000005  5.          1.5       ]\n",
      " [ 6.69999981  2.5         5.80000019  1.79999995]\n",
      " [ 5.4000001   3.70000005  1.5         0.2       ]\n",
      " [ 5.          3.4000001   1.5         0.2       ]\n",
      " [ 4.80000019  3.4000001   1.89999998  0.2       ]\n",
      " [ 6.80000019  3.20000005  5.9000001   2.29999995]\n",
      " [ 6.69999981  3.0999999   5.5999999   2.4000001 ]\n",
      " [ 4.9000001   3.0999999   1.5         0.1       ]\n",
      " [ 5.69999981  3.79999995  1.70000005  0.30000001]\n",
      " [ 6.80000019  2.79999995  4.80000019  1.39999998]\n",
      " [ 4.69999981  3.20000005  1.29999995  0.2       ]\n",
      " [ 6.19999981  3.4000001   5.4000001   2.29999995]\n",
      " [ 6.80000019  3.          5.5         2.0999999 ]]\n",
      "[1 2 2 2 2 0 0 0 2 2 0 0 1 0 2 2]\n",
      "[[ 5.5         2.5         4.          1.29999995]\n",
      " [ 6.          2.20000005  4.          1.        ]\n",
      " [ 5.80000019  4.          1.20000005  0.2       ]\n",
      " [ 5.69999981  2.5         5.          2.        ]\n",
      " [ 5.69999981  2.9000001   4.19999981  1.29999995]\n",
      " [ 5.4000001   3.9000001   1.29999995  0.40000001]\n",
      " [ 7.19999981  3.          5.80000019  1.60000002]\n",
      " [ 4.9000001   3.          1.39999998  0.2       ]\n",
      " [ 5.4000001   3.9000001   1.70000005  0.40000001]\n",
      " [ 6.          2.70000005  5.0999999   1.60000002]\n",
      " [ 7.9000001   3.79999995  6.4000001   2.        ]\n",
      " [ 7.4000001   2.79999995  6.0999999   1.89999998]\n",
      " [ 5.80000019  2.70000005  3.9000001   1.20000005]\n",
      " [ 7.          3.20000005  4.69999981  1.39999998]\n",
      " [ 4.30000019  3.          1.10000002  0.1       ]\n",
      " [ 4.9000001   3.0999999   1.5         0.1       ]]\n",
      "[1 1 0 2 1 0 2 0 0 1 2 2 1 1 0 0]\n"
     ]
    }
   ],
   "source": [
    "# run batches of features\n",
    "workspace.RunNet(net_proto.Proto().name)\n",
    "print(workspace.FetchBlob(\"X\"))\n",
    "print(workspace.FetchBlob(\"Y\"))\n",
    "\n",
    "# run batches of features again\n",
    "workspace.RunNet(net_proto.Proto().name)\n",
    "print(workspace.FetchBlob(\"X\"))\n",
    "print(workspace.FetchBlob(\"Y\"))"
   ]
  },
  {
   "cell_type": "code",
   "execution_count": null,
   "metadata": {
    "collapsed": true
   },
   "outputs": [],
   "source": []
  }
 ],
 "metadata": {
  "kernelspec": {
   "display_name": "Python 2",
   "language": "python",
   "name": "python2"
  },
  "language_info": {
   "codemirror_mode": {
    "name": "ipython",
    "version": 2
   },
   "file_extension": ".py",
   "mimetype": "text/x-python",
   "name": "python",
   "nbconvert_exporter": "python",
   "pygments_lexer": "ipython2",
   "version": "2.7.6"
  }
 },
 "nbformat": 4,
 "nbformat_minor": 2
}
