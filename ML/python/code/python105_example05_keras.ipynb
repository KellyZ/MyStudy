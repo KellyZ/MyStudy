{
 "cells": [
  {
   "cell_type": "code",
   "execution_count": 8,
   "metadata": {},
   "outputs": [],
   "source": [
    "from keras.models import Sequential\n",
    "from keras.layers import Dense\n",
    "import matplotlib.pyplot as plt\n",
    "import numpy as np\n",
    "np.random.seed(1337)\n",
    "import sys"
   ]
  },
  {
   "cell_type": "code",
   "execution_count": 9,
   "metadata": {},
   "outputs": [],
   "source": [
    "X = np.linspace(-1,1,200)\n",
    "np.random.shuffle(X)  # randomize the data\n",
    "Y = 0.5*X + np.random.normal(0,0.05, (200,))"
   ]
  },
  {
   "cell_type": "code",
   "execution_count": 10,
   "metadata": {},
   "outputs": [
    {
     "data": {
      "image/png": "[encoded data removed]",
      "text/plain": [
       "<matplotlib.figure.Figure at 0x1a255586d8>"
      ]
     },
     "metadata": {},
     "output_type": "display_data"
    }
   ],
   "source": [
    "plt.scatter(X,Y)\n",
    "plt.show()"
   ]
  },
  {
   "cell_type": "code",
   "execution_count": 16,
   "metadata": {},
   "outputs": [
    {
     "name": "stdout",
     "output_type": "stream",
     "text": [
      "Training....\n",
      "Train cost: 0.206952\n",
      "Train cost: 0.0186104\n",
      "Train cost: 0.00522497\n",
      "Train cost: 0.00314503\n",
      "Testing...\n",
      "40/40 [==============================] - 0s\n",
      "Test cost: 0.00398328294978\n",
      "Weight: [[-0.60763383]] \n",
      "biases: [-0.00297753]\n"
     ]
    },
    {
     "data": {
      "image/png": "[encoded data removed]",
      "text/plain": [
       "<matplotlib.figure.Figure at 0x1a25f12278>"
      ]
     },
     "metadata": {},
     "output_type": "display_data"
    }
   ],
   "source": [
    "X_train,Y_train = X[:160],Y[:160]\n",
    "X_test, Y_test = X[160:],Y[160:]\n",
    "\n",
    "# build a neural network\n",
    "model = Sequential()\n",
    "model.add(Dense(input_dim=1, units=1))\n",
    "model.add(Dense(units=1))\n",
    "\n",
    "# choose loss function and optimize method\n",
    "model.compile(loss='mse',optimizer='sgd')\n",
    "\n",
    "# training\n",
    "print('Training....')\n",
    "for step in range(301):\n",
    "    cost = model.train_on_batch(X_train, Y_train)\n",
    "    if step%100==0:\n",
    "        print('Train cost:',cost)\n",
    "\n",
    "\n",
    "# test\n",
    "print('Testing...')\n",
    "cost = model.evaluate(X_test,Y_test,40)\n",
    "print('Test cost:',cost)\n",
    "W,b = model.layers[0].get_weights()\n",
    "print('Weight:',W,'\\nbiases:',b)\n",
    "\n",
    "# ploting and prediction\n",
    "Y_pred = model.predict(X_test)\n",
    "plt.scatter(X_test,Y_test)\n",
    "plt.plot(X_test,Y_pred)\n",
    "plt.show()"
   ]
  },
  {
   "cell_type": "code",
   "execution_count": null,
   "metadata": {
    "collapsed": true
   },
   "outputs": [],
   "source": []
  }
 ],
 "metadata": {
  "kernelspec": {
   "display_name": "Python 3",
   "language": "python",
   "name": "python3"
  },
  "language_info": {
   "codemirror_mode": {
    "name": "ipython",
    "version": 3
   },
   "file_extension": ".py",
   "mimetype": "text/x-python",
   "name": "python",
   "nbconvert_exporter": "python",
   "pygments_lexer": "ipython3",
   "version": "3.6.3"
  }
 },
 "nbformat": 4,
 "nbformat_minor": 2
}
