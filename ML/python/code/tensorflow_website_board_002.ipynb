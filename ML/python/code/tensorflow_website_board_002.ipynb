{
 "cells": [
  {
   "cell_type": "code",
   "execution_count": 1,
   "metadata": {
    "collapsed": true
   },
   "outputs": [],
   "source": [
    "import tensorflow as tf\n",
    "from tensorflow.examples.tutorials.mnist import input_data"
   ]
  },
  {
   "cell_type": "markdown",
   "metadata": {},
   "source": [
    "## 定义数据"
   ]
  },
  {
   "cell_type": "code",
   "execution_count": 2,
   "metadata": {},
   "outputs": [
    {
     "name": "stdout",
     "output_type": "stream",
     "text": [
      "Extracting MNIST_data/train-images-idx3-ubyte.gz\n",
      "Extracting MNIST_data/train-labels-idx1-ubyte.gz\n",
      "Extracting MNIST_data/t10k-images-idx3-ubyte.gz\n",
      "Extracting MNIST_data/t10k-labels-idx1-ubyte.gz\n"
     ]
    },
    {
     "data": {
      "text/plain": [
       "Datasets(train=<tensorflow.contrib.learn.python.learn.datasets.mnist.DataSet object at 0x00000000038FD908>, validation=<tensorflow.contrib.learn.python.learn.datasets.mnist.DataSet object at 0x000000000EC5E6A0>, test=<tensorflow.contrib.learn.python.learn.datasets.mnist.DataSet object at 0x000000000EC5E518>)"
      ]
     },
     "execution_count": 2,
     "metadata": {},
     "output_type": "execute_result"
    }
   ],
   "source": [
    "mnist = input_data.read_data_sets('MNIST_data/',one_hot=True)  #one-hot vectors\n",
    "mnist"
   ]
  },
  {
   "cell_type": "code",
   "execution_count": 3,
   "metadata": {},
   "outputs": [
    {
     "name": "stdout",
     "output_type": "stream",
     "text": [
      "55000\n",
      "5000\n",
      "10000\n"
     ]
    }
   ],
   "source": [
    "print(mnist.train.num_examples)\n",
    "print(mnist.validation.num_examples)\n",
    "print(mnist.test.num_examples)"
   ]
  },
  {
   "cell_type": "code",
   "execution_count": 4,
   "metadata": {},
   "outputs": [
    {
     "data": {
      "text/plain": [
       "(55000, 784)"
      ]
     },
     "execution_count": 4,
     "metadata": {},
     "output_type": "execute_result"
    }
   ],
   "source": [
    "mnist.train.images.shape   # after flatten"
   ]
  },
  {
   "cell_type": "code",
   "execution_count": 5,
   "metadata": {},
   "outputs": [
    {
     "data": {
      "text/plain": [
       "(55000, 10)"
      ]
     },
     "execution_count": 5,
     "metadata": {},
     "output_type": "execute_result"
    }
   ],
   "source": [
    "mnist.train.labels.shape  #one-hot vectors"
   ]
  },
  {
   "cell_type": "markdown",
   "metadata": {},
   "source": [
    "## 定义模型"
   ]
  },
  {
   "cell_type": "code",
   "execution_count": 6,
   "metadata": {},
   "outputs": [],
   "source": [
    "# 输入层\n",
    "with tf.name_scope('input'):\n",
    "    x = tf.placeholder(tf.float32, [None, 784], name='input_x')\n",
    "\n",
    "# 中间层\n",
    "with tf.name_scope('layer1'):\n",
    "    W1 = tf.Variable(tf.zeros([784,10]), name='weight')\n",
    "    tf.summary.histogram('weight', W1)\n",
    "    b1 = tf.Variable(tf.zeros([10]), name='biases')\n",
    "    tf.summary.histogram('biases', b1)\n",
    "    output = tf.nn.softmax(tf.matmul(x, W1) + b1)\n",
    "    \n",
    "# loss, cross-entropy function\n",
    "with tf.name_scope('loss'):\n",
    "    y = tf.placeholder(tf.float32,[None,10], name='inpyt_y')\n",
    "#     loss = tf.reduce_mean(tf.nn.softmax_cross_entropy_with_logits(labels=y, logits=output))\n",
    "    loss = tf.reduce_mean(-tf.reduce_sum(y*tf.log(output), reduction_indices=[1]))\n",
    "    tf.summary.scalar('loss', loss)\n",
    "\n",
    "# train\n",
    "with tf.name_scope('train'):\n",
    "    optimizer = tf.train.GradientDescentOptimizer(0.01)\n",
    "    train_step = optimizer.minimize(loss)"
   ]
  },
  {
   "cell_type": "code",
   "execution_count": 13,
   "metadata": {},
   "outputs": [
    {
     "name": "stderr",
     "output_type": "stream",
     "text": [
      "D:\\anaconda3\\lib\\site-packages\\ipykernel_launcher.py:6: RuntimeWarning: invalid value encountered in log\n",
      "  \n"
     ]
    },
    {
     "data": {
      "image/png": "[encoded data removed]",
      "text/plain": [
       "<matplotlib.figure.Figure at 0x106a2a20>"
      ]
     },
     "metadata": {},
     "output_type": "display_data"
    }
   ],
   "source": [
    "import matplotlib.pyplot as plt\n",
    "import numpy as np\n",
    "\n",
    "tx = np.linspace(-5,5,50)\n",
    "plt.plot(tx,tx)\n",
    "plt.plot(tx,tx*np.log(tx))\n",
    "plt.show()"
   ]
  },
  {
   "cell_type": "markdown",
   "metadata": {},
   "source": [
    "## 模型评估"
   ]
  },
  {
   "cell_type": "code",
   "execution_count": 7,
   "metadata": {},
   "outputs": [],
   "source": [
    "with tf.name_scope('accuray'):\n",
    "    correct_prediction = tf.equal(tf.arg_max(output,1), tf.arg_max(y, 1))\n",
    "    accuracy = tf.reduce_mean(tf.cast(correct_prediction, tf.float32))\n",
    "    tf.summary.scalar('accuracy', accuracy)"
   ]
  },
  {
   "cell_type": "markdown",
   "metadata": {},
   "source": [
    "## 训练"
   ]
  },
  {
   "cell_type": "code",
   "execution_count": 8,
   "metadata": {},
   "outputs": [
    {
     "name": "stdout",
     "output_type": "stream",
     "text": [
      "accuracy: 0.8723\n",
      "accuracy: 0.8871\n",
      "accuracy: 0.8947\n",
      "accuracy: 0.8986\n",
      "accuracy: 0.9028\n",
      "accuracy: 0.9052\n",
      "accuracy: 0.9071\n",
      "accuracy: 0.9093\n",
      "accuracy: 0.9101\n",
      "accuracy: 0.9124\n",
      "weight: [[ 0.  0.  0. ...,  0.  0.  0.]\n",
      " [ 0.  0.  0. ...,  0.  0.  0.]\n",
      " [ 0.  0.  0. ...,  0.  0.  0.]\n",
      " ..., \n",
      " [ 0.  0.  0. ...,  0.  0.  0.]\n",
      " [ 0.  0.  0. ...,  0.  0.  0.]\n",
      " [ 0.  0.  0. ...,  0.  0.  0.]] ,biases: [-0.14938217  0.24922365 -0.02351329 -0.11702739  0.05928497  0.46521452\n",
      " -0.0325643   0.25180528 -0.61303753 -0.09000216]\n",
      "accuracy: 0.9124\n"
     ]
    }
   ],
   "source": [
    "batch_size = 50\n",
    "n_batch = mnist.train.num_examples // batch_size\n",
    "epoches = 10\n",
    "\n",
    "merged = tf.summary.merge_all()\n",
    "init = tf.global_variables_initializer()\n",
    "\n",
    "sess = tf.Session()\n",
    "writer = tf.summary.FileWriter('./tensorboard/board002', sess.graph)\n",
    "sess.run(init)\n",
    "summary_i = 0\n",
    "for i in range(epoches):\n",
    "    for batch in range(n_batch):\n",
    "        batch_xs, batch_ys = mnist.train.next_batch(batch_size)\n",
    "        sess.run(train_step, {x:batch_xs, y:batch_ys})\n",
    "        if batch%50 == 0:\n",
    "            summary = sess.run(merged, {x:batch_xs, y:batch_ys})\n",
    "            writer.add_summary(summary,summary_i)\n",
    "            summary_i = summary_i + 1\n",
    "    print(\"accuracy:\", sess.run(accuracy, feed_dict={x:mnist.test.images, y:mnist.test.labels}))\n",
    "\n",
    "print(\"weight:\", sess.run(W1),',biases:',sess.run(b1))\n",
    "print(\"accuracy:\", sess.run(accuracy, feed_dict={x:mnist.test.images, y:mnist.test.labels}))\n",
    "sess.close()"
   ]
  },
  {
   "cell_type": "code",
   "execution_count": null,
   "metadata": {
    "collapsed": true
   },
   "outputs": [],
   "source": []
  }
 ],
 "metadata": {
  "kernelspec": {
   "display_name": "Python 3",
   "language": "python",
   "name": "python3"
  },
  "language_info": {
   "codemirror_mode": {
    "name": "ipython",
    "version": 3
   },
   "file_extension": ".py",
   "mimetype": "text/x-python",
   "name": "python",
   "nbconvert_exporter": "python",
   "pygments_lexer": "ipython3",
   "version": "3.6.2"
  }
 },
 "nbformat": 4,
 "nbformat_minor": 2
}
