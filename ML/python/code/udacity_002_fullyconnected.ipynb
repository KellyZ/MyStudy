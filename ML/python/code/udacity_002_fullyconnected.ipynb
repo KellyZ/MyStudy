{
 "cells": [
  {
   "cell_type": "code",
   "execution_count": 2,
   "metadata": {},
   "outputs": [],
   "source": [
    "from __future__ import print_function\n",
    "\n",
    "import numpy as np\n",
    "import tensorflow as tf\n",
    "from six.moves import cPickle as pickle\n",
    "from six.moves import range"
   ]
  },
  {
   "cell_type": "code",
   "execution_count": 7,
   "metadata": {},
   "outputs": [
    {
     "name": "stdout",
     "output_type": "stream",
     "text": [
      "Training info: (20000, 28, 28) (20000,)\n",
      "Valid info: (10000, 28, 28) (10000,)\n",
      "Test info: (10000, 28, 28) (10000,)\n"
     ]
    }
   ],
   "source": [
    "\"\"\" First, reload the data \"\"\"\n",
    "pickle_file = 'notMNIST.pickle'\n",
    "\n",
    "with open(pickle_file, 'rb') as f:\n",
    "    save = pickle.load(f)\n",
    "    train_dataset = save['train_dataset']\n",
    "    train_labels = save['train_labels']    \n",
    "    valid_dataset = save['valid_dataset']\n",
    "    valid_labels = save['valid_labels']    \n",
    "    test_dataset = save['test_dataset']\n",
    "    test_labels = save['test_labels']\n",
    "    del save # hint to help gc free up memory\n",
    "    print('Training info:', train_dataset.shape, train_labels.shape)\n",
    "    print('Valid info:', valid_dataset.shape, valid_labels.shape)\n",
    "    print('Test info:', test_dataset.shape, test_labels.shape)"
   ]
  },
  {
   "cell_type": "code",
   "execution_count": 8,
   "metadata": {},
   "outputs": [
    {
     "name": "stdout",
     "output_type": "stream",
     "text": [
      "Training info: (20000, 784) (20000, 10)\n",
      "Valid info: (10000, 784) (10000, 10)\n",
      "Test info: (10000, 784) (10000, 10)\n"
     ]
    }
   ],
   "source": [
    "image_size = 28\n",
    "num_labels = 10\n",
    "\n",
    "def reformat(dataset, labels):\n",
    "    dataset = dataset.reshape((-1, image_size*image_size)).astype(np.float32)\n",
    "    # map 0 to [1.0, 0.0, 0.0 ...], 1 to [0.0, 1.0, 0.0, ...]\n",
    "    labels = (np.arange(num_labels) == labels[:,None]).astype(np.float32)\n",
    "    return dataset,labels\n",
    "\n",
    "train_dataset,train_labels = reformat(train_dataset,train_labels)\n",
    "valid_dataset,valid_labels = reformat(valid_dataset,valid_labels)\n",
    "test_dataset,test_labels = reformat(test_dataset,test_labels)\n",
    "\n",
    "print('Training info:', train_dataset.shape, train_labels.shape)\n",
    "print('Valid info:', valid_dataset.shape, valid_labels.shape)\n",
    "print('Test info:', test_dataset.shape, test_labels.shape)"
   ]
  },
  {
   "cell_type": "code",
   "execution_count": 11,
   "metadata": {
    "collapsed": true
   },
   "outputs": [],
   "source": [
    "train_subset = 10000\n",
    "\n",
    "graph = tf.Graph()\n",
    "\n",
    "with graph.as_default():\n",
    "    tf_train_dataset = tf.constant(train_dataset[:train_subset, :])\n",
    "    tf_train_labels = tf.constant(train_labels[:train_subset])\n",
    "    tf_valid_dataset = tf.constant(valid_dataset)\n",
    "    tf_test_dataset = tf.constant(test_dataset)\n",
    "    \n",
    "    weights = tf.Variable(tf.truncated_normal([image_size*image_size,num_labels]))\n",
    "    biases = tf.Variable(tf.zeros([num_labels]))\n",
    "    \n",
    "    logits = tf.matmul(tf_train_dataset, weights) + biases\n",
    "    loss = tf.reduce_mean(tf.nn.softmax_cross_entropy_with_logits(labels=tf_train_labels,logits=logits))\n",
    "    \n",
    "    optimizer = tf.train.GradientDescentOptimizer(0.5).minimize(loss)\n",
    "    \n",
    "    train_prediction = tf.nn.softmax(logits)\n",
    "    valid_prediction = tf.nn.softmax(tf.matmul(tf_valid_dataset, weights) + biases)\n",
    "    test_prediction = tf.nn.softmax(tf.matmul(tf_test_dataset, weights) + biases)"
   ]
  },
  {
   "cell_type": "markdown",
   "metadata": {},
   "source": [
    "## 标准梯度下降"
   ]
  },
  {
   "cell_type": "code",
   "execution_count": 13,
   "metadata": {},
   "outputs": [
    {
     "name": "stdout",
     "output_type": "stream",
     "text": [
      "Initialized\n",
      "Loss at step 0: 18.390762\n",
      "Training accuracy: 12%\n",
      "Validation accuracy:15.0%\n",
      "Loss at step 100: 2.271149\n",
      "Training accuracy: 72%\n",
      "Validation accuracy:70.0%\n",
      "Loss at step 200: 1.837423\n",
      "Training accuracy: 75%\n",
      "Validation accuracy:72.7%\n",
      "Loss at step 300: 1.601017\n",
      "Training accuracy: 76%\n",
      "Validation accuracy:73.6%\n",
      "Loss at step 400: 1.439419\n",
      "Training accuracy: 77%\n",
      "Validation accuracy:74.0%\n",
      "Loss at step 500: 1.317456\n",
      "Training accuracy: 77%\n",
      "Validation accuracy:74.2%\n",
      "Loss at step 600: 1.220926\n",
      "Training accuracy: 78%\n",
      "Validation accuracy:74.5%\n",
      "Loss at step 700: 1.142293\n",
      "Training accuracy: 78%\n",
      "Validation accuracy:74.6%\n",
      "Loss at step 800: 1.076795\n",
      "Training accuracy: 79%\n",
      "Validation accuracy:74.8%\n",
      "Test accuracy:82%\n"
     ]
    }
   ],
   "source": [
    "num_steps = 801\n",
    "\n",
    "def accuracy(predictions, labels):\n",
    "    accuracy = (100.0 * np.sum(np.argmax(predictions,1) == np.argmax(labels,1)) / predictions.shape[0])\n",
    "    return accuracy\n",
    "    \n",
    "with tf.Session(graph=graph) as session:\n",
    "    tf.global_variables_initializer().run()\n",
    "    print('Initialized')\n",
    "    for step in range(num_steps):\n",
    "        _, l, predictions = session.run([optimizer, loss, train_prediction])\n",
    "        if step%100 == 0:\n",
    "            print('Loss at step %d: %f' % (step, l))\n",
    "            print('Training accuracy: %.f%%' % accuracy(predictions, train_labels[:train_subset,:]))\n",
    "            print('Validation accuracy:%.1f%%' % accuracy(valid_prediction.eval(),valid_labels))\n",
    "    print('Test accuracy:%1.f%%' % accuracy(test_prediction.eval(), test_labels))"
   ]
  },
  {
   "cell_type": "markdown",
   "metadata": {},
   "source": [
    "## 随机梯度下降 stochastic gradient"
   ]
  },
  {
   "cell_type": "code",
   "execution_count": 15,
   "metadata": {},
   "outputs": [
    {
     "name": "stdout",
     "output_type": "stream",
     "text": [
      "Initialized\n",
      "Minibatch Loss at step 0: 20.215975\n",
      "Minibatch Training accuracy: 7%\n",
      "Minibatch Validation accuracy:11.2%\n",
      "Minibatch Loss at step 100: 2.679464\n",
      "Minibatch Training accuracy: 70%\n",
      "Minibatch Validation accuracy:70.7%\n",
      "Minibatch Loss at step 200: 1.515105\n",
      "Minibatch Training accuracy: 81%\n",
      "Minibatch Validation accuracy:72.5%\n",
      "Minibatch Loss at step 300: 2.073150\n",
      "Minibatch Training accuracy: 69%\n",
      "Minibatch Validation accuracy:74.1%\n",
      "Minibatch Loss at step 400: 1.511905\n",
      "Minibatch Training accuracy: 77%\n",
      "Minibatch Validation accuracy:75.1%\n",
      "Minibatch Loss at step 500: 1.509688\n",
      "Minibatch Training accuracy: 77%\n",
      "Minibatch Validation accuracy:74.9%\n",
      "Minibatch Loss at step 600: 1.674663\n",
      "Minibatch Training accuracy: 77%\n",
      "Minibatch Validation accuracy:74.9%\n",
      "Minibatch Loss at step 700: 1.258005\n",
      "Minibatch Training accuracy: 75%\n",
      "Minibatch Validation accuracy:75.5%\n",
      "Minibatch Loss at step 800: 1.138151\n",
      "Minibatch Training accuracy: 78%\n",
      "Minibatch Validation accuracy:76.3%\n",
      "Minibatch Loss at step 900: 1.307070\n",
      "Minibatch Training accuracy: 70%\n",
      "Minibatch Validation accuracy:76.0%\n",
      "Minibatch Loss at step 1000: 1.329885\n",
      "Minibatch Training accuracy: 73%\n",
      "Minibatch Validation accuracy:76.3%\n",
      "Minibatch Loss at step 1100: 0.960187\n",
      "Minibatch Training accuracy: 80%\n",
      "Minibatch Validation accuracy:76.2%\n",
      "Minibatch Loss at step 1200: 1.038634\n",
      "Minibatch Training accuracy: 75%\n",
      "Minibatch Validation accuracy:76.3%\n",
      "Minibatch Loss at step 1300: 1.029900\n",
      "Minibatch Training accuracy: 79%\n",
      "Minibatch Validation accuracy:76.5%\n",
      "Minibatch Loss at step 1400: 1.510560\n",
      "Minibatch Training accuracy: 73%\n",
      "Minibatch Validation accuracy:76.3%\n",
      "Minibatch Loss at step 1500: 0.789321\n",
      "Minibatch Training accuracy: 82%\n",
      "Minibatch Validation accuracy:76.5%\n",
      "Minibatch Loss at step 1600: 0.723532\n",
      "Minibatch Training accuracy: 84%\n",
      "Minibatch Validation accuracy:76.8%\n",
      "Minibatch Loss at step 1700: 0.907962\n",
      "Minibatch Training accuracy: 80%\n",
      "Minibatch Validation accuracy:76.2%\n",
      "Minibatch Loss at step 1800: 0.809116\n",
      "Minibatch Training accuracy: 79%\n",
      "Minibatch Validation accuracy:76.9%\n",
      "Minibatch Loss at step 1900: 0.571946\n",
      "Minibatch Training accuracy: 91%\n",
      "Minibatch Validation accuracy:77.0%\n",
      "Minibatch Loss at step 2000: 0.911077\n",
      "Minibatch Training accuracy: 80%\n",
      "Minibatch Validation accuracy:76.8%\n",
      "Minibatch Loss at step 2100: 0.769601\n",
      "Minibatch Training accuracy: 83%\n",
      "Minibatch Validation accuracy:77.4%\n",
      "Minibatch Loss at step 2200: 0.992650\n",
      "Minibatch Training accuracy: 80%\n",
      "Minibatch Validation accuracy:77.1%\n",
      "Minibatch Loss at step 2300: 0.791758\n",
      "Minibatch Training accuracy: 82%\n",
      "Minibatch Validation accuracy:77.0%\n",
      "Minibatch Loss at step 2400: 0.999669\n",
      "Minibatch Training accuracy: 75%\n",
      "Minibatch Validation accuracy:77.4%\n",
      "Minibatch Loss at step 2500: 0.801719\n",
      "Minibatch Training accuracy: 82%\n",
      "Minibatch Validation accuracy:76.7%\n",
      "Minibatch Loss at step 2600: 0.884643\n",
      "Minibatch Training accuracy: 79%\n",
      "Minibatch Validation accuracy:77.4%\n",
      "Minibatch Loss at step 2700: 0.725837\n",
      "Minibatch Training accuracy: 80%\n",
      "Minibatch Validation accuracy:77.0%\n",
      "Minibatch Loss at step 2800: 0.534047\n",
      "Minibatch Training accuracy: 88%\n",
      "Minibatch Validation accuracy:77.4%\n",
      "Minibatch Loss at step 2900: 0.834875\n",
      "Minibatch Training accuracy: 81%\n",
      "Minibatch Validation accuracy:76.6%\n",
      "Minibatch Loss at step 3000: 0.669102\n",
      "Minibatch Training accuracy: 87%\n",
      "Minibatch Validation accuracy:77.7%\n",
      "Test accuracy:85%\n"
     ]
    }
   ],
   "source": [
    "batch_size = 128\n",
    "\n",
    "graph = tf.Graph()\n",
    "with graph.as_default():\n",
    "    tf_train_dataset = tf.placeholder(tf.float32, shape=(batch_size, image_size*image_size))\n",
    "    tf_train_labels = tf.placeholder(tf.float32,shape=(batch_size,num_labels))\n",
    "    tf_valid_dataset = tf.constant(valid_dataset)\n",
    "    tf_test_dataset = tf.constant(test_dataset)\n",
    "    \n",
    "    weights = tf.Variable(tf.truncated_normal(shape=(image_size*image_size, num_labels)))\n",
    "    biases = tf.Variable(tf.zeros([num_labels]))\n",
    "    \n",
    "    logits = tf.matmul(tf_train_dataset, weights) + biases\n",
    "    loss = tf.reduce_mean(tf.nn.softmax_cross_entropy_with_logits(labels=tf_train_labels,logits=logits))\n",
    "    \n",
    "    optimizer = tf.train.GradientDescentOptimizer(0.5).minimize(loss)\n",
    "    \n",
    "    train_prediction = tf.nn.softmax(logits)\n",
    "    valid_prediction = tf.nn.softmax(tf.matmul(tf_valid_dataset, weights) + biases)\n",
    "    test_prediction = tf.nn.softmax(tf.matmul(tf_test_dataset, weights) + biases)\n",
    "\n",
    "num_steps = 3001\n",
    "with tf.Session(graph=graph) as session:\n",
    "    tf.global_variables_initializer().run()\n",
    "    print('Initialized')\n",
    "    for step in range(num_steps):\n",
    "        offset = (step*batch_size) % (train_labels.shape[0] - batch_size)\n",
    "        batch_data = train_dataset[offset:(offset+batch_size),:]\n",
    "        batch_labels = train_labels[offset:(offset+batch_size),:]\n",
    "        feed_dict = {tf_train_dataset:batch_data,tf_train_labels:batch_labels}\n",
    "        _, l, predictions = session.run([optimizer,loss,train_prediction], feed_dict=feed_dict)\n",
    "        if step%100==0:\n",
    "            print('Minibatch Loss at step %d: %f' % (step, l))\n",
    "            print('Minibatch Training accuracy: %.f%%' % accuracy(predictions, batch_labels))\n",
    "            print('Minibatch Validation accuracy:%.1f%%' % accuracy(valid_prediction.eval(),valid_labels))\n",
    "    print('Test accuracy:%1.f%%' % accuracy(test_prediction.eval(), test_labels))"
   ]
  },
  {
   "cell_type": "code",
   "execution_count": null,
   "metadata": {
    "collapsed": true
   },
   "outputs": [],
   "source": []
  }
 ],
 "metadata": {
  "kernelspec": {
   "display_name": "Python 3",
   "language": "python",
   "name": "python3"
  },
  "language_info": {
   "codemirror_mode": {
    "name": "ipython",
    "version": 3
   },
   "file_extension": ".py",
   "mimetype": "text/x-python",
   "name": "python",
   "nbconvert_exporter": "python",
   "pygments_lexer": "ipython3",
   "version": "3.6.2"
  }
 },
 "nbformat": 4,
 "nbformat_minor": 2
}
