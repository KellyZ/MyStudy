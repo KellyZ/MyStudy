{
 "cells": [
  {
   "cell_type": "code",
   "execution_count": 1,
   "metadata": {
    "collapsed": true
   },
   "outputs": [],
   "source": [
    "import tensorflow as tf\n",
    "import numpy as np\n",
    "import matplotlib.pyplot as plt\n",
    "from tensorflow.examples.tutorials.mnist import input_data"
   ]
  },
  {
   "cell_type": "code",
   "execution_count": 2,
   "metadata": {},
   "outputs": [
    {
     "name": "stdout",
     "output_type": "stream",
     "text": [
      "Extracting MNIST_data/train-images-idx3-ubyte.gz\n",
      "Extracting MNIST_data/train-labels-idx1-ubyte.gz\n",
      "Extracting MNIST_data/t10k-images-idx3-ubyte.gz\n",
      "Extracting MNIST_data/t10k-labels-idx1-ubyte.gz\n"
     ]
    }
   ],
   "source": [
    "mnist = input_data.read_data_sets(\"MNIST_data/\", one_hot=True)"
   ]
  },
  {
   "cell_type": "code",
   "execution_count": 3,
   "metadata": {
    "collapsed": true
   },
   "outputs": [],
   "source": [
    "batch_size = 100\n",
    "n_batch = mnist.train.num_examples // batch_size\n",
    "\n",
    "# 初始化权重\n",
    "def weight_variable(shape):\n",
    "    initial = tf.truncated_normal(shape, stddev=0.1)\n",
    "    return tf.Variable(initial)\n",
    "\n",
    "# 初始化偏置\n",
    "def bias_variable(shape):\n",
    "    initial = tf.constant(0.1, shape=shape)\n",
    "    return tf.Variable(initial)\n",
    "\n",
    "# 卷积层\n",
    "def conv2d(x,W):\n",
    "    # filter / kernel tensor of shape [filter_height,filter_width, in_channels, out_channels]\n",
    "    # strides[1]: x方向的步长，strides[2]: y方向的步长\n",
    "    return tf.nn.conv2d(x,W,strides=[1,1,1,1],padding='SAME')\n",
    "\n",
    "# 池化层\n",
    "def max_pool_2x2(x):\n",
    "    # ksize [1,x,y,1] 窗口大小\n",
    "    return tf.nn.max_pool(x,ksize=[1,2,2,1],strides=[1,2,2,1],padding='SAME')"
   ]
  },
  {
   "cell_type": "code",
   "execution_count": 4,
   "metadata": {
    "collapsed": true
   },
   "outputs": [],
   "source": [
    "x = tf.placeholder(tf.float32,[None,784])\n",
    "y = tf.placeholder(tf.float32,[None,10])\n",
    "\n",
    "# 改变x为3d的向量 [batch, in_height, in_width, in_channels]\n",
    "x_image = tf.reshape(x, [-1,28,28,1])\n",
    "\n",
    "#初始化第一个卷积层的权值和偏置\n",
    "W_conv1 = weight_variable([5,5,1,32]) # 5*5的采样窗口，32个卷积核从一个平面获取特征\n",
    "b_conv1 = bias_variable([32]) #每一个卷积核一个偏置值\n",
    "\n",
    "# 把x_image和权值向量进行卷积，再加上偏置值，然后应用relu激活函数\n",
    "h_conv1 = tf.nn.relu(conv2d(x_image,W_conv1)+b_conv1)  #卷积后是28*28*32\n",
    "h_pool1 = max_pool_2x2(h_conv1) #池化后是14*14*32\n",
    "\n",
    "#初始化第二个卷积层的权值和偏置\n",
    "W_conv2 = weight_variable([5,5,32,64]) # 5*5的采样窗口，64个卷积核从32个平面获取特征\n",
    "b_conv2 = bias_variable([64]) #每一个卷积核一个偏置值\n",
    "\n",
    "# 把h_pool1和权值向量进行卷积，再加上偏置值，然后应用relu激活函数\n",
    "h_conv2 = tf.nn.relu(conv2d(h_pool1,W_conv2)+b_conv2)  # 卷积后是14*14*64\n",
    "h_pool2 = max_pool_2x2(h_conv2)  # 池化后是7*7*64\n",
    "\n",
    "# 把池化层2的输出扁平化为1维\n",
    "h_pool2_flat = tf.reshape(h_pool2,[-1,7*7*64])\n",
    "\n",
    "# 初始化第一层1024个全连接层的权值\n",
    "W_fc1 = weight_variable([7*7*64,1024]) # 上一层有7*7*64个神经元\n",
    "b_fc1 = bias_variable([1024])\n",
    "\n",
    "# 求第一个全连接层的输出\n",
    "h_fc1 = tf.nn.relu(tf.matmul(h_pool2_flat,W_fc1)+b_fc1)\n",
    "\n",
    "# dropout\n",
    "keep_prob = tf.placeholder(tf.float32)\n",
    "h_fc1_drop = tf.nn.dropout(h_fc1,keep_prob)\n",
    "\n",
    "# 初始化第二个全连接层\n",
    "W_fc2 = weight_variable([1024,10])\n",
    "b_fc2  = bias_variable([10])\n",
    "\n",
    "# 计算输出\n",
    "predictions = tf.nn.softmax(tf.matmul(h_fc1_drop,W_fc2)+b_fc2)\n",
    "\n",
    "# 交叉熵代价函数\n",
    "loss = tf.reduce_mean(tf.nn.softmax_cross_entropy_with_logits(labels=y,logits=predictions))\n",
    "\n",
    "# Optimizer\n",
    "optimizer = tf.train.AdamOptimizer(1e-4)\n",
    "train_step = optimizer.minimize(loss)\n",
    "\n",
    "# 结果\n",
    "correct_prediction = tf.equal(tf.argmax(predictions,1),tf.argmax(y,1))\n",
    "accuracy = tf.reduce_mean(tf.cast(correct_prediction,tf.float32))"
   ]
  },
  {
   "cell_type": "code",
   "execution_count": null,
   "metadata": {},
   "outputs": [
    {
     "name": "stdout",
     "output_type": "stream",
     "text": [
      " 0 test_acc: 0.9567\n",
      "train step: 1 test_acc: 0.9702\n",
      "train step: 2 test_acc: 0.9763\n",
      "train step: 3 test_acc: 0.9799\n",
      "train step: 4 test_acc: 0.9816\n",
      "train step: 5 test_acc: 0.9833\n",
      "train step: 6 test_acc: 0.9859\n",
      "train step: 7 test_acc: 0.9858\n",
      "train step: 8 test_acc: 0.9892\n",
      "train step: 9 test_acc: 0.9891\n",
      "train step: 10 test_acc: 0.9906\n"
     ]
    }
   ],
   "source": [
    "init = tf.global_variables_initializer()\n",
    "with tf.Session() as sess:\n",
    "    sess.run(init)\n",
    "    for epoch in range(10):\n",
    "        for batch in range(n_batch):\n",
    "            batch_xs,batch_ys = mnist.train.next_batch(batch_size)\n",
    "            sess.run(train_step, feed_dict={x:batch_xs,y:batch_ys,keep_prob:0.7})\n",
    "        acc = sess.run(accuracy, feed_dict={x:mnist.test.images,y:mnist.test.labels, keep_prob:1.0})\n",
    "        print(\"train step:\", epoch, \"test_acc:\", acc)"
   ]
  },
  {
   "cell_type": "code",
   "execution_count": null,
   "metadata": {
    "collapsed": true
   },
   "outputs": [],
   "source": []
  }
 ],
 "metadata": {
  "kernelspec": {
   "display_name": "Python 3",
   "language": "python",
   "name": "python3"
  },
  "language_info": {
   "codemirror_mode": {
    "name": "ipython",
    "version": 3
   },
   "file_extension": ".py",
   "mimetype": "text/x-python",
   "name": "python",
   "nbconvert_exporter": "python",
   "pygments_lexer": "ipython3",
   "version": "3.6.2"
  }
 },
 "nbformat": 4,
 "nbformat_minor": 2
}
