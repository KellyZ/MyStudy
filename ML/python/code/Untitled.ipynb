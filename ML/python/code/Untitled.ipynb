{
 "cells": [
  {
   "cell_type": "code",
   "execution_count": 21,
   "metadata": {
    "collapsed": true
   },
   "outputs": [],
   "source": [
    "import matplotlib.pyplot as plt\n",
    "import os"
   ]
  },
  {
   "cell_type": "code",
   "execution_count": 29,
   "metadata": {},
   "outputs": [
    {
     "name": "stdout",
     "output_type": "stream",
     "text": [
      "12.096 1.904\n"
     ]
    },
    {
     "data": {
      "image/png": "[encoded data removed]",
      "text/plain": [
       "<matplotlib.figure.Figure at 0x913e6a0>"
      ]
     },
     "metadata": {},
     "output_type": "display_data"
    }
   ],
   "source": [
    "with open('cpu_rate_xolo.txt', 'r') as f:\n",
    "    y1248 = []\n",
    "    y1027 = []\n",
    "    y858 = []\n",
    "    y793 = []\n",
    "    y637 = []\n",
    "    y494 = []\n",
    "    y364 = []\n",
    "    y221 = []\n",
    "    \n",
    "    lines = f.readlines()\n",
    "#     print(lines)\n",
    "    for line in lines:\n",
    "        rate,time = line.split(' ')\n",
    "#         print(rate,\":\",time)\n",
    "        if rate == '1248000':\n",
    "            y1248.append(int(time)/1000.0)\n",
    "        elif rate == '1027000':\n",
    "            y1027.append(int(time)/1000.0)\n",
    "        elif rate == '858000':\n",
    "            y858.append(int(time)/1000.0)\n",
    "        elif rate == '793000':\n",
    "            y793.append(int(time)/1000.0)\n",
    "        elif rate == '637000':\n",
    "            y637.append(int(time)/1000.0)\n",
    "        elif rate == '494000':\n",
    "            y494.append(int(time)/1000.0)\n",
    "        elif rate == '364000':\n",
    "            y364.append(int(time)/1000.0)\n",
    "        elif rate == '221000':\n",
    "            y221.append(int(time)/1000.0)\n",
    "    print(y1248[-1],y1027[-1])\n",
    "    plt.figure()\n",
    "    plt.plot(y1248,'r-')\n",
    "    plt.plot(y1027,'b-')\n",
    "    plt.plot(y858,'w-')\n",
    "    plt.plot(y793)\n",
    "    plt.plot(y637)\n",
    "    plt.plot(y494)\n",
    "    plt.plot(y364)\n",
    "    plt.plot(y221)\n",
    "    plt.show()\n",
    "    f.close()"
   ]
  },
  {
   "cell_type": "code",
   "execution_count": 30,
   "metadata": {},
   "outputs": [
    {
     "name": "stdout",
     "output_type": "stream",
     "text": [
      "14.949 0.292\n"
     ]
    },
    {
     "data": {
      "image/png": "[encoded data removed]",
      "text/plain": [
       "<matplotlib.figure.Figure at 0x9124ac8>"
      ]
     },
     "metadata": {},
     "output_type": "display_data"
    }
   ],
   "source": [
    "with open('cpu_rate_lava.txt', 'r') as f:\n",
    "    y1248 = []\n",
    "    y1027 = []\n",
    "    y858 = []\n",
    "    y793 = []\n",
    "    y637 = []\n",
    "    y494 = []\n",
    "    y364 = []\n",
    "    y221 = []\n",
    "    \n",
    "    lines = f.readlines()\n",
    "#     print(lines)\n",
    "    for line in lines:\n",
    "        rate,time = line.split(' ')\n",
    "#         print(rate,\":\",time)\n",
    "        if rate == '1248000':\n",
    "            y1248.append(int(time)/1000.0)\n",
    "        elif rate == '1027000':\n",
    "            y1027.append(int(time)/1000.0)\n",
    "        elif rate == '858000':\n",
    "            y858.append(int(time)/1000.0)\n",
    "        elif rate == '793000':\n",
    "            y793.append(int(time)/1000.0)\n",
    "        elif rate == '637000':\n",
    "            y637.append(int(time)/1000.0)\n",
    "        elif rate == '494000':\n",
    "            y494.append(int(time)/1000.0)\n",
    "        elif rate == '364000':\n",
    "            y364.append(int(time)/1000.0)\n",
    "        elif rate == '221000':\n",
    "            y221.append(int(time)/1000.0)\n",
    "    print(y1248[-1],y1027[-1])\n",
    "    plt.figure()\n",
    "    plt.plot(y1248,'r-')\n",
    "    plt.plot(y1027,'b-')\n",
    "    plt.plot(y858,'w-')\n",
    "    plt.plot(y793)\n",
    "    plt.plot(y637)\n",
    "    plt.plot(y494)\n",
    "    plt.plot(y364)\n",
    "    plt.plot(y221)\n",
    "    plt.show()\n",
    "    f.close()"
   ]
  },
  {
   "cell_type": "code",
   "execution_count": null,
   "metadata": {
    "collapsed": true
   },
   "outputs": [],
   "source": []
  }
 ],
 "metadata": {
  "kernelspec": {
   "display_name": "Python 3",
   "language": "python",
   "name": "python3"
  },
  "language_info": {
   "codemirror_mode": {
    "name": "ipython",
    "version": 3
   },
   "file_extension": ".py",
   "mimetype": "text/x-python",
   "name": "python",
   "nbconvert_exporter": "python",
   "pygments_lexer": "ipython3",
   "version": "3.6.2"
  }
 },
 "nbformat": 4,
 "nbformat_minor": 2
}
